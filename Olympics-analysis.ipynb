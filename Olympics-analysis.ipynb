{
 "cells": [
  {
   "cell_type": "code",
   "execution_count": null,
   "id": "35cd1dad",
   "metadata": {},
   "outputs": [],
   "source": [
    "import numpy as np\n",
    "import pandas as pd"
   ]
  },
  {
   "cell_type": "code",
   "execution_count": 10,
   "id": "877f7cb3",
   "metadata": {},
   "outputs": [],
   "source": [
    "df = pd.read_csv('athlete_events.csv')\n",
    "region_df = pd.read_csv('noc_regions.csv')\n",
    "df = df.merge(region_df,on='NOC', how='left')"
   ]
  },
  {
   "cell_type": "code",
   "execution_count": null,
   "id": "26c51219",
   "metadata": {},
   "outputs": [],
   "source": []
  },
  {
   "cell_type": "code",
   "execution_count": null,
   "id": "d7a688da",
   "metadata": {},
   "outputs": [],
   "source": [
    "years = df['Year'].unique().tolist()\n",
    "years.sort()\n",
    "years.insert(0,'Overall')"
   ]
  },
  {
   "cell_type": "code",
   "execution_count": 7,
   "id": "0dba28c4",
   "metadata": {},
   "outputs": [
    {
     "data": {
      "text/plain": [
       "['Overall',\n",
       " 1896,\n",
       " 1900,\n",
       " 1904,\n",
       " 1906,\n",
       " 1908,\n",
       " 1912,\n",
       " 1920,\n",
       " 1924,\n",
       " 1928,\n",
       " 1932,\n",
       " 1936,\n",
       " 1948,\n",
       " 1952,\n",
       " 1956,\n",
       " 1960,\n",
       " 1964,\n",
       " 1968,\n",
       " 1972,\n",
       " 1976,\n",
       " 1980,\n",
       " 1984,\n",
       " 1988,\n",
       " 1992,\n",
       " 1994,\n",
       " 1996,\n",
       " 1998,\n",
       " 2000,\n",
       " 2002,\n",
       " 2004,\n",
       " 2006,\n",
       " 2008,\n",
       " 2010,\n",
       " 2012,\n",
       " 2014,\n",
       " 2016]"
      ]
     },
     "execution_count": 7,
     "metadata": {},
     "output_type": "execute_result"
    }
   ],
   "source": [
    "years"
   ]
  },
  {
   "cell_type": "code",
   "execution_count": null,
   "id": "54fb41f3",
   "metadata": {},
   "outputs": [],
   "source": [
    "country = np.unique(df['region'].dropna().values).tolist()\n",
    "country.sort()\n",
    "country.insert(0,'Overall')"
   ]
  },
  {
   "cell_type": "code",
   "execution_count": null,
   "id": "fa4f0e7b",
   "metadata": {},
   "outputs": [],
   "source": []
  },
  {
   "cell_type": "code",
   "execution_count": null,
   "id": "8eae4cc9",
   "metadata": {},
   "outputs": [],
   "source": []
  }
 ],
 "metadata": {
  "kernelspec": {
   "display_name": "venv",
   "language": "python",
   "name": "python3"
  },
  "language_info": {
   "codemirror_mode": {
    "name": "ipython",
    "version": 3
   },
   "file_extension": ".py",
   "mimetype": "text/x-python",
   "name": "python",
   "nbconvert_exporter": "python",
   "pygments_lexer": "ipython3",
   "version": "3.12.3"
  }
 },
 "nbformat": 4,
 "nbformat_minor": 5
}

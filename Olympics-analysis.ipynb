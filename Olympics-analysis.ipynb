{
 "cells": [
  {
   "cell_type": "code",
   "execution_count": 1,
   "id": "35cd1dad",
   "metadata": {},
   "outputs": [],
   "source": [
    "import numpy as np\n",
    "import pandas as pd\n",
    "import plotly.express as px\n",
    "import seaborn as sns\n",
    "import matplotlib.pyplot as plt"
   ]
  },
  {
   "cell_type": "code",
   "execution_count": 2,
   "id": "877f7cb3",
   "metadata": {},
   "outputs": [],
   "source": [
    "df = pd.read_csv('athlete_events.csv')\n",
    "region_df = pd.read_csv('noc_regions.csv')\n",
    "df = df.merge(region_df,on='NOC', how='left')"
   ]
  },
  {
   "cell_type": "code",
   "execution_count": null,
   "id": "26c51219",
   "metadata": {},
   "outputs": [],
   "source": []
  },
  {
   "cell_type": "code",
   "execution_count": 3,
   "id": "d7a688da",
   "metadata": {},
   "outputs": [],
   "source": [
    "years = df['Year'].unique().tolist()\n",
    "years.sort()\n",
    "years.insert(0,'Overall')"
   ]
  },
  {
   "cell_type": "code",
   "execution_count": 4,
   "id": "0dba28c4",
   "metadata": {},
   "outputs": [
    {
     "data": {
      "text/plain": [
       "['Overall',\n",
       " 1896,\n",
       " 1900,\n",
       " 1904,\n",
       " 1906,\n",
       " 1908,\n",
       " 1912,\n",
       " 1920,\n",
       " 1924,\n",
       " 1928,\n",
       " 1932,\n",
       " 1936,\n",
       " 1948,\n",
       " 1952,\n",
       " 1956,\n",
       " 1960,\n",
       " 1964,\n",
       " 1968,\n",
       " 1972,\n",
       " 1976,\n",
       " 1980,\n",
       " 1984,\n",
       " 1988,\n",
       " 1992,\n",
       " 1994,\n",
       " 1996,\n",
       " 1998,\n",
       " 2000,\n",
       " 2002,\n",
       " 2004,\n",
       " 2006,\n",
       " 2008,\n",
       " 2010,\n",
       " 2012,\n",
       " 2014,\n",
       " 2016]"
      ]
     },
     "execution_count": 4,
     "metadata": {},
     "output_type": "execute_result"
    }
   ],
   "source": [
    "years"
   ]
  },
  {
   "cell_type": "code",
   "execution_count": 5,
   "id": "54fb41f3",
   "metadata": {},
   "outputs": [],
   "source": [
    "country = np.unique(df['region'].dropna().values).tolist()\n",
    "country.sort()\n",
    "country.insert(0,'Overall')"
   ]
  },
  {
   "cell_type": "code",
   "execution_count": 6,
   "id": "fa4f0e7b",
   "metadata": {},
   "outputs": [
    {
     "data": {
      "text/plain": [
       "765"
      ]
     },
     "execution_count": 6,
     "metadata": {},
     "output_type": "execute_result"
    }
   ],
   "source": [
    "# determine no. of events in olympics\n",
    "df['Event'].unique().shape[0] "
   ]
  },
  {
   "cell_type": "code",
   "execution_count": 7,
   "id": "8eae4cc9",
   "metadata": {},
   "outputs": [
    {
     "data": {
      "text/html": [
       "<div>\n",
       "<style scoped>\n",
       "    .dataframe tbody tr th:only-of-type {\n",
       "        vertical-align: middle;\n",
       "    }\n",
       "\n",
       "    .dataframe tbody tr th {\n",
       "        vertical-align: top;\n",
       "    }\n",
       "\n",
       "    .dataframe thead th {\n",
       "        text-align: right;\n",
       "    }\n",
       "</style>\n",
       "<table border=\"1\" class=\"dataframe\">\n",
       "  <thead>\n",
       "    <tr style=\"text-align: right;\">\n",
       "      <th></th>\n",
       "      <th>Year</th>\n",
       "      <th>count</th>\n",
       "    </tr>\n",
       "  </thead>\n",
       "  <tbody>\n",
       "    <tr>\n",
       "      <th>0</th>\n",
       "      <td>2016</td>\n",
       "      <td>204</td>\n",
       "    </tr>\n",
       "    <tr>\n",
       "      <th>1</th>\n",
       "      <td>2012</td>\n",
       "      <td>203</td>\n",
       "    </tr>\n",
       "    <tr>\n",
       "      <th>2</th>\n",
       "      <td>2008</td>\n",
       "      <td>202</td>\n",
       "    </tr>\n",
       "    <tr>\n",
       "      <th>3</th>\n",
       "      <td>2004</td>\n",
       "      <td>200</td>\n",
       "    </tr>\n",
       "    <tr>\n",
       "      <th>4</th>\n",
       "      <td>2000</td>\n",
       "      <td>199</td>\n",
       "    </tr>\n",
       "    <tr>\n",
       "      <th>5</th>\n",
       "      <td>1996</td>\n",
       "      <td>196</td>\n",
       "    </tr>\n",
       "    <tr>\n",
       "      <th>6</th>\n",
       "      <td>1992</td>\n",
       "      <td>169</td>\n",
       "    </tr>\n",
       "    <tr>\n",
       "      <th>7</th>\n",
       "      <td>1988</td>\n",
       "      <td>157</td>\n",
       "    </tr>\n",
       "    <tr>\n",
       "      <th>8</th>\n",
       "      <td>1984</td>\n",
       "      <td>146</td>\n",
       "    </tr>\n",
       "    <tr>\n",
       "      <th>9</th>\n",
       "      <td>1972</td>\n",
       "      <td>120</td>\n",
       "    </tr>\n",
       "    <tr>\n",
       "      <th>10</th>\n",
       "      <td>1968</td>\n",
       "      <td>111</td>\n",
       "    </tr>\n",
       "    <tr>\n",
       "      <th>11</th>\n",
       "      <td>1964</td>\n",
       "      <td>94</td>\n",
       "    </tr>\n",
       "    <tr>\n",
       "      <th>12</th>\n",
       "      <td>1976</td>\n",
       "      <td>92</td>\n",
       "    </tr>\n",
       "    <tr>\n",
       "      <th>13</th>\n",
       "      <td>1980</td>\n",
       "      <td>89</td>\n",
       "    </tr>\n",
       "    <tr>\n",
       "      <th>14</th>\n",
       "      <td>2014</td>\n",
       "      <td>88</td>\n",
       "    </tr>\n",
       "    <tr>\n",
       "      <th>15</th>\n",
       "      <td>1960</td>\n",
       "      <td>83</td>\n",
       "    </tr>\n",
       "    <tr>\n",
       "      <th>16</th>\n",
       "      <td>2010</td>\n",
       "      <td>81</td>\n",
       "    </tr>\n",
       "    <tr>\n",
       "      <th>17</th>\n",
       "      <td>2006</td>\n",
       "      <td>78</td>\n",
       "    </tr>\n",
       "    <tr>\n",
       "      <th>18</th>\n",
       "      <td>2002</td>\n",
       "      <td>76</td>\n",
       "    </tr>\n",
       "    <tr>\n",
       "      <th>19</th>\n",
       "      <td>1956</td>\n",
       "      <td>74</td>\n",
       "    </tr>\n",
       "    <tr>\n",
       "      <th>20</th>\n",
       "      <td>1998</td>\n",
       "      <td>72</td>\n",
       "    </tr>\n",
       "    <tr>\n",
       "      <th>21</th>\n",
       "      <td>1952</td>\n",
       "      <td>67</td>\n",
       "    </tr>\n",
       "    <tr>\n",
       "      <th>22</th>\n",
       "      <td>1994</td>\n",
       "      <td>67</td>\n",
       "    </tr>\n",
       "    <tr>\n",
       "      <th>23</th>\n",
       "      <td>1948</td>\n",
       "      <td>61</td>\n",
       "    </tr>\n",
       "    <tr>\n",
       "      <th>24</th>\n",
       "      <td>1936</td>\n",
       "      <td>50</td>\n",
       "    </tr>\n",
       "    <tr>\n",
       "      <th>25</th>\n",
       "      <td>1932</td>\n",
       "      <td>47</td>\n",
       "    </tr>\n",
       "    <tr>\n",
       "      <th>26</th>\n",
       "      <td>1924</td>\n",
       "      <td>46</td>\n",
       "    </tr>\n",
       "    <tr>\n",
       "      <th>27</th>\n",
       "      <td>1928</td>\n",
       "      <td>46</td>\n",
       "    </tr>\n",
       "    <tr>\n",
       "      <th>28</th>\n",
       "      <td>1900</td>\n",
       "      <td>31</td>\n",
       "    </tr>\n",
       "    <tr>\n",
       "      <th>29</th>\n",
       "      <td>1920</td>\n",
       "      <td>29</td>\n",
       "    </tr>\n",
       "    <tr>\n",
       "      <th>30</th>\n",
       "      <td>1912</td>\n",
       "      <td>29</td>\n",
       "    </tr>\n",
       "    <tr>\n",
       "      <th>31</th>\n",
       "      <td>1908</td>\n",
       "      <td>22</td>\n",
       "    </tr>\n",
       "    <tr>\n",
       "      <th>32</th>\n",
       "      <td>1906</td>\n",
       "      <td>20</td>\n",
       "    </tr>\n",
       "    <tr>\n",
       "      <th>33</th>\n",
       "      <td>1904</td>\n",
       "      <td>14</td>\n",
       "    </tr>\n",
       "    <tr>\n",
       "      <th>34</th>\n",
       "      <td>1896</td>\n",
       "      <td>12</td>\n",
       "    </tr>\n",
       "  </tbody>\n",
       "</table>\n",
       "</div>"
      ],
      "text/plain": [
       "    Year  count\n",
       "0   2016    204\n",
       "1   2012    203\n",
       "2   2008    202\n",
       "3   2004    200\n",
       "4   2000    199\n",
       "5   1996    196\n",
       "6   1992    169\n",
       "7   1988    157\n",
       "8   1984    146\n",
       "9   1972    120\n",
       "10  1968    111\n",
       "11  1964     94\n",
       "12  1976     92\n",
       "13  1980     89\n",
       "14  2014     88\n",
       "15  1960     83\n",
       "16  2010     81\n",
       "17  2006     78\n",
       "18  2002     76\n",
       "19  1956     74\n",
       "20  1998     72\n",
       "21  1952     67\n",
       "22  1994     67\n",
       "23  1948     61\n",
       "24  1936     50\n",
       "25  1932     47\n",
       "26  1924     46\n",
       "27  1928     46\n",
       "28  1900     31\n",
       "29  1920     29\n",
       "30  1912     29\n",
       "31  1908     22\n",
       "32  1906     20\n",
       "33  1904     14\n",
       "34  1896     12"
      ]
     },
     "execution_count": 7,
     "metadata": {},
     "output_type": "execute_result"
    }
   ],
   "source": [
    "df.drop_duplicates(['Year','region'])['Year'].value_counts().reset_index()"
   ]
  },
  {
   "cell_type": "code",
   "execution_count": 8,
   "id": "d17e2e14",
   "metadata": {},
   "outputs": [
    {
     "data": {
      "text/plain": [
       "<Axes: xlabel='Year', ylabel='Sport'>"
      ]
     },
     "execution_count": 8,
     "metadata": {},
     "output_type": "execute_result"
    },
    {
     "data": {
      "image/png": "[encoded data removed]",
      "text/plain": [
       "<Figure size 2000x2000 with 2 Axes>"
      ]
     },
     "metadata": {},
     "output_type": "display_data"
    }
   ],
   "source": [
    "x = df.drop_duplicates(['Year','Sport','Event'])\n",
    "plt.figure(figsize=(20,20))\n",
    "sns.heatmap(x.pivot_table(index='Sport',columns='Year',values='Event',aggfunc='count').fillna(0).astype(int),annot=True)\n"
   ]
  },
  {
   "cell_type": "code",
   "execution_count": 9,
   "id": "d73dc9ad",
   "metadata": {},
   "outputs": [],
   "source": [
    "def most_successful(df,sport):\n",
    "    temp_df = df.dropna(subset=['Medal'])\n",
    "\n",
    "    if sport != 'Overall':\n",
    "        temp_df = temp_df[temp_df['Sport'] == sport]\n",
    "    \n",
    "    x= temp_df['Name'].value_counts().reset_index().head(15).merge(df,left_on='Name',right_on='Name',how='left')[['Name','count','Sport','region']].drop_duplicates('Name')\n",
    "    x.rename(columns={'count':'Medals'},inplace=True)\n",
    "    return x"
   ]
  },
  {
   "cell_type": "code",
   "execution_count": 10,
   "id": "a4d77440",
   "metadata": {},
   "outputs": [
    {
     "data": {
      "text/html": [
       "<div>\n",
       "<style scoped>\n",
       "    .dataframe tbody tr th:only-of-type {\n",
       "        vertical-align: middle;\n",
       "    }\n",
       "\n",
       "    .dataframe tbody tr th {\n",
       "        vertical-align: top;\n",
       "    }\n",
       "\n",
       "    .dataframe thead th {\n",
       "        text-align: right;\n",
       "    }\n",
       "</style>\n",
       "<table border=\"1\" class=\"dataframe\">\n",
       "  <thead>\n",
       "    <tr style=\"text-align: right;\">\n",
       "      <th></th>\n",
       "      <th>Name</th>\n",
       "      <th>Medals</th>\n",
       "      <th>Sport</th>\n",
       "      <th>region</th>\n",
       "    </tr>\n",
       "  </thead>\n",
       "  <tbody>\n",
       "    <tr>\n",
       "      <th>0</th>\n",
       "      <td>Larysa Semenivna Latynina (Diriy-)</td>\n",
       "      <td>18</td>\n",
       "      <td>Gymnastics</td>\n",
       "      <td>Russia</td>\n",
       "    </tr>\n",
       "    <tr>\n",
       "      <th>19</th>\n",
       "      <td>Nikolay Yefimovich Andrianov</td>\n",
       "      <td>15</td>\n",
       "      <td>Gymnastics</td>\n",
       "      <td>Russia</td>\n",
       "    </tr>\n",
       "    <tr>\n",
       "      <th>43</th>\n",
       "      <td>Borys Anfiyanovych Shakhlin</td>\n",
       "      <td>13</td>\n",
       "      <td>Gymnastics</td>\n",
       "      <td>Russia</td>\n",
       "    </tr>\n",
       "    <tr>\n",
       "      <th>67</th>\n",
       "      <td>Takashi Ono</td>\n",
       "      <td>13</td>\n",
       "      <td>Gymnastics</td>\n",
       "      <td>Japan</td>\n",
       "    </tr>\n",
       "    <tr>\n",
       "      <th>100</th>\n",
       "      <td>Sawao Kato</td>\n",
       "      <td>12</td>\n",
       "      <td>Gymnastics</td>\n",
       "      <td>Japan</td>\n",
       "    </tr>\n",
       "    <tr>\n",
       "      <th>124</th>\n",
       "      <td>Aleksey Yuryevich Nemov</td>\n",
       "      <td>12</td>\n",
       "      <td>Gymnastics</td>\n",
       "      <td>Russia</td>\n",
       "    </tr>\n",
       "    <tr>\n",
       "      <th>145</th>\n",
       "      <td>Viktor Ivanovych Chukarin</td>\n",
       "      <td>11</td>\n",
       "      <td>Gymnastics</td>\n",
       "      <td>Russia</td>\n",
       "    </tr>\n",
       "    <tr>\n",
       "      <th>161</th>\n",
       "      <td>Vra slavsk (-Odloilov)</td>\n",
       "      <td>11</td>\n",
       "      <td>Gymnastics</td>\n",
       "      <td>Czech Republic</td>\n",
       "    </tr>\n",
       "    <tr>\n",
       "      <th>179</th>\n",
       "      <td>Vitaly Venediktovich Shcherbo</td>\n",
       "      <td>10</td>\n",
       "      <td>Gymnastics</td>\n",
       "      <td>Russia</td>\n",
       "    </tr>\n",
       "    <tr>\n",
       "      <th>195</th>\n",
       "      <td>Polina Hryhorivna Astakhova</td>\n",
       "      <td>10</td>\n",
       "      <td>Gymnastics</td>\n",
       "      <td>Russia</td>\n",
       "    </tr>\n",
       "    <tr>\n",
       "      <th>214</th>\n",
       "      <td>gnes Keleti-Srkny (Klein)</td>\n",
       "      <td>10</td>\n",
       "      <td>Gymnastics</td>\n",
       "      <td>Hungary</td>\n",
       "    </tr>\n",
       "    <tr>\n",
       "      <th>228</th>\n",
       "      <td>Akinori Nakayama</td>\n",
       "      <td>10</td>\n",
       "      <td>Gymnastics</td>\n",
       "      <td>Japan</td>\n",
       "    </tr>\n",
       "    <tr>\n",
       "      <th>244</th>\n",
       "      <td>Aleksandr Nikolayevich Dityatin</td>\n",
       "      <td>10</td>\n",
       "      <td>Gymnastics</td>\n",
       "      <td>Russia</td>\n",
       "    </tr>\n",
       "    <tr>\n",
       "      <th>260</th>\n",
       "      <td>Eizo Kenmotsu</td>\n",
       "      <td>9</td>\n",
       "      <td>Gymnastics</td>\n",
       "      <td>Japan</td>\n",
       "    </tr>\n",
       "    <tr>\n",
       "      <th>284</th>\n",
       "      <td>Yury Yevlampiyevich Titov</td>\n",
       "      <td>9</td>\n",
       "      <td>Gymnastics</td>\n",
       "      <td>Russia</td>\n",
       "    </tr>\n",
       "  </tbody>\n",
       "</table>\n",
       "</div>"
      ],
      "text/plain": [
       "                                   Name  Medals       Sport          region\n",
       "0    Larysa Semenivna Latynina (Diriy-)      18  Gymnastics          Russia\n",
       "19         Nikolay Yefimovich Andrianov      15  Gymnastics          Russia\n",
       "43          Borys Anfiyanovych Shakhlin      13  Gymnastics          Russia\n",
       "67                          Takashi Ono      13  Gymnastics           Japan\n",
       "100                          Sawao Kato      12  Gymnastics           Japan\n",
       "124             Aleksey Yuryevich Nemov      12  Gymnastics          Russia\n",
       "145           Viktor Ivanovych Chukarin      11  Gymnastics          Russia\n",
       "161              Vra slavsk (-Odloilov)      11  Gymnastics  Czech Republic\n",
       "179       Vitaly Venediktovich Shcherbo      10  Gymnastics          Russia\n",
       "195         Polina Hryhorivna Astakhova      10  Gymnastics          Russia\n",
       "214           gnes Keleti-Srkny (Klein)      10  Gymnastics         Hungary\n",
       "228                    Akinori Nakayama      10  Gymnastics           Japan\n",
       "244     Aleksandr Nikolayevich Dityatin      10  Gymnastics          Russia\n",
       "260                       Eizo Kenmotsu       9  Gymnastics           Japan\n",
       "284           Yury Yevlampiyevich Titov       9  Gymnastics          Russia"
      ]
     },
     "execution_count": 10,
     "metadata": {},
     "output_type": "execute_result"
    }
   ],
   "source": [
    "most_successful(df,'Gymnastics')"
   ]
  },
  {
   "cell_type": "markdown",
   "id": "82bc9b90",
   "metadata": {},
   "source": [
    "### Country Wise"
   ]
  },
  {
   "cell_type": "code",
   "execution_count": 11,
   "id": "881864e5",
   "metadata": {},
   "outputs": [
    {
     "name": "stderr",
     "output_type": "stream",
     "text": [
      "/tmp/ipykernel_7160/530182857.py:2: SettingWithCopyWarning: \n",
      "A value is trying to be set on a copy of a slice from a DataFrame\n",
      "\n",
      "See the caveats in the documentation: https://pandas.pydata.org/pandas-docs/stable/user_guide/indexing.html#returning-a-view-versus-a-copy\n",
      "  temp_df.drop_duplicates(subset=['Team','NOC','Games','Year','City','Sport','Event','Medal'],inplace=True)\n"
     ]
    }
   ],
   "source": [
    "temp_df =  df.dropna(subset=['Medal'])\n",
    "temp_df.drop_duplicates(subset=['Team','NOC','Games','Year','City','Sport','Event','Medal'],inplace=True)"
   ]
  },
  {
   "cell_type": "code",
   "execution_count": 12,
   "id": "b719afdc",
   "metadata": {},
   "outputs": [
    {
     "data": {
      "text/html": [
       "<div>\n",
       "<style scoped>\n",
       "    .dataframe tbody tr th:only-of-type {\n",
       "        vertical-align: middle;\n",
       "    }\n",
       "\n",
       "    .dataframe tbody tr th {\n",
       "        vertical-align: top;\n",
       "    }\n",
       "\n",
       "    .dataframe thead th {\n",
       "        text-align: right;\n",
       "    }\n",
       "</style>\n",
       "<table border=\"1\" class=\"dataframe\">\n",
       "  <thead>\n",
       "    <tr style=\"text-align: right;\">\n",
       "      <th></th>\n",
       "      <th>Year</th>\n",
       "      <th>Medal</th>\n",
       "    </tr>\n",
       "  </thead>\n",
       "  <tbody>\n",
       "    <tr>\n",
       "      <th>0</th>\n",
       "      <td>1896</td>\n",
       "      <td>19</td>\n",
       "    </tr>\n",
       "    <tr>\n",
       "      <th>1</th>\n",
       "      <td>1900</td>\n",
       "      <td>54</td>\n",
       "    </tr>\n",
       "    <tr>\n",
       "      <th>2</th>\n",
       "      <td>1904</td>\n",
       "      <td>231</td>\n",
       "    </tr>\n",
       "    <tr>\n",
       "      <th>3</th>\n",
       "      <td>1906</td>\n",
       "      <td>23</td>\n",
       "    </tr>\n",
       "    <tr>\n",
       "      <th>4</th>\n",
       "      <td>1908</td>\n",
       "      <td>46</td>\n",
       "    </tr>\n",
       "    <tr>\n",
       "      <th>5</th>\n",
       "      <td>1912</td>\n",
       "      <td>63</td>\n",
       "    </tr>\n",
       "    <tr>\n",
       "      <th>6</th>\n",
       "      <td>1920</td>\n",
       "      <td>95</td>\n",
       "    </tr>\n",
       "    <tr>\n",
       "      <th>7</th>\n",
       "      <td>1924</td>\n",
       "      <td>103</td>\n",
       "    </tr>\n",
       "    <tr>\n",
       "      <th>8</th>\n",
       "      <td>1928</td>\n",
       "      <td>62</td>\n",
       "    </tr>\n",
       "    <tr>\n",
       "      <th>9</th>\n",
       "      <td>1932</td>\n",
       "      <td>122</td>\n",
       "    </tr>\n",
       "    <tr>\n",
       "      <th>10</th>\n",
       "      <td>1936</td>\n",
       "      <td>61</td>\n",
       "    </tr>\n",
       "    <tr>\n",
       "      <th>11</th>\n",
       "      <td>1948</td>\n",
       "      <td>92</td>\n",
       "    </tr>\n",
       "    <tr>\n",
       "      <th>12</th>\n",
       "      <td>1952</td>\n",
       "      <td>87</td>\n",
       "    </tr>\n",
       "    <tr>\n",
       "      <th>13</th>\n",
       "      <td>1956</td>\n",
       "      <td>81</td>\n",
       "    </tr>\n",
       "    <tr>\n",
       "      <th>14</th>\n",
       "      <td>1960</td>\n",
       "      <td>81</td>\n",
       "    </tr>\n",
       "    <tr>\n",
       "      <th>15</th>\n",
       "      <td>1964</td>\n",
       "      <td>97</td>\n",
       "    </tr>\n",
       "    <tr>\n",
       "      <th>16</th>\n",
       "      <td>1968</td>\n",
       "      <td>112</td>\n",
       "    </tr>\n",
       "    <tr>\n",
       "      <th>17</th>\n",
       "      <td>1972</td>\n",
       "      <td>102</td>\n",
       "    </tr>\n",
       "    <tr>\n",
       "      <th>18</th>\n",
       "      <td>1976</td>\n",
       "      <td>104</td>\n",
       "    </tr>\n",
       "    <tr>\n",
       "      <th>19</th>\n",
       "      <td>1980</td>\n",
       "      <td>12</td>\n",
       "    </tr>\n",
       "    <tr>\n",
       "      <th>20</th>\n",
       "      <td>1984</td>\n",
       "      <td>181</td>\n",
       "    </tr>\n",
       "    <tr>\n",
       "      <th>21</th>\n",
       "      <td>1988</td>\n",
       "      <td>100</td>\n",
       "    </tr>\n",
       "    <tr>\n",
       "      <th>22</th>\n",
       "      <td>1992</td>\n",
       "      <td>119</td>\n",
       "    </tr>\n",
       "    <tr>\n",
       "      <th>23</th>\n",
       "      <td>1994</td>\n",
       "      <td>13</td>\n",
       "    </tr>\n",
       "    <tr>\n",
       "      <th>24</th>\n",
       "      <td>1996</td>\n",
       "      <td>101</td>\n",
       "    </tr>\n",
       "    <tr>\n",
       "      <th>25</th>\n",
       "      <td>1998</td>\n",
       "      <td>13</td>\n",
       "    </tr>\n",
       "    <tr>\n",
       "      <th>26</th>\n",
       "      <td>2000</td>\n",
       "      <td>91</td>\n",
       "    </tr>\n",
       "    <tr>\n",
       "      <th>27</th>\n",
       "      <td>2002</td>\n",
       "      <td>34</td>\n",
       "    </tr>\n",
       "    <tr>\n",
       "      <th>28</th>\n",
       "      <td>2004</td>\n",
       "      <td>101</td>\n",
       "    </tr>\n",
       "    <tr>\n",
       "      <th>29</th>\n",
       "      <td>2006</td>\n",
       "      <td>25</td>\n",
       "    </tr>\n",
       "    <tr>\n",
       "      <th>30</th>\n",
       "      <td>2008</td>\n",
       "      <td>110</td>\n",
       "    </tr>\n",
       "    <tr>\n",
       "      <th>31</th>\n",
       "      <td>2010</td>\n",
       "      <td>37</td>\n",
       "    </tr>\n",
       "    <tr>\n",
       "      <th>32</th>\n",
       "      <td>2012</td>\n",
       "      <td>103</td>\n",
       "    </tr>\n",
       "    <tr>\n",
       "      <th>33</th>\n",
       "      <td>2014</td>\n",
       "      <td>28</td>\n",
       "    </tr>\n",
       "    <tr>\n",
       "      <th>34</th>\n",
       "      <td>2016</td>\n",
       "      <td>121</td>\n",
       "    </tr>\n",
       "  </tbody>\n",
       "</table>\n",
       "</div>"
      ],
      "text/plain": [
       "    Year  Medal\n",
       "0   1896     19\n",
       "1   1900     54\n",
       "2   1904    231\n",
       "3   1906     23\n",
       "4   1908     46\n",
       "5   1912     63\n",
       "6   1920     95\n",
       "7   1924    103\n",
       "8   1928     62\n",
       "9   1932    122\n",
       "10  1936     61\n",
       "11  1948     92\n",
       "12  1952     87\n",
       "13  1956     81\n",
       "14  1960     81\n",
       "15  1964     97\n",
       "16  1968    112\n",
       "17  1972    102\n",
       "18  1976    104\n",
       "19  1980     12\n",
       "20  1984    181\n",
       "21  1988    100\n",
       "22  1992    119\n",
       "23  1994     13\n",
       "24  1996    101\n",
       "25  1998     13\n",
       "26  2000     91\n",
       "27  2002     34\n",
       "28  2004    101\n",
       "29  2006     25\n",
       "30  2008    110\n",
       "31  2010     37\n",
       "32  2012    103\n",
       "33  2014     28\n",
       "34  2016    121"
      ]
     },
     "execution_count": 12,
     "metadata": {},
     "output_type": "execute_result"
    }
   ],
   "source": [
    "new_df = temp_df[temp_df['region'] == 'USA']\n",
    "final_df = new_df.groupby('Year').count()['Medal'].reset_index()\n",
    "final_df"
   ]
  },
  {
   "cell_type": "code",
   "execution_count": 13,
   "id": "9ab375be",
   "metadata": {},
   "outputs": [
    {
     "data": {
      "application/vnd.plotly.v1+json": {
       "config": {
        "plotlyServerURL": "https://plot.ly"
       },
       "data": [
        {
         "hovertemplate": "Year=%{x}<br>Medal=%{y}<extra></extra>",
         "legendgroup": "",
         "line": {
          "color": "#636efa",
          "dash": "solid"
         },
         "marker": {
          "symbol": "circle"
         },
         "mode": "lines",
         "name": "",
         "orientation": "v",
         "showlegend": false,
         "type": "scatter",
         "x": {
          "bdata": "aAdsB3AHcgd0B3gHgAeEB4gHjAeQB5wHoAekB6gHrAewB7QHuAe8B8AHxAfIB8oHzAfOB9AH0gfUB9YH2AfaB9wH3gfgBw==",
          "dtype": "i2"
         },
         "xaxis": "x",
         "y": {
          "bdata": "EwA2AOcAFwAuAD8AXwBnAD4AegA9AFwAVwBRAFEAYQBwAGYAaAAMALUAZAB3AA0AZQANAFsAIgBlABkAbgAlAGcAHAB5AA==",
          "dtype": "i2"
         },
         "yaxis": "y"
        }
       ],
       "layout": {
        "legend": {
         "tracegroupgap": 0
        },
        "margin": {
         "t": 60
        },
        "template": {
         "data": {
          "bar": [
           {
            "error_x": {
             "color": "#2a3f5f"
            },
            "error_y": {
             "color": "#2a3f5f"
            },
            "marker": {
             "line": {
              "color": "#E5ECF6",
              "width": 0.5
             },
             "pattern": {
              "fillmode": "overlay",
              "size": 10,
              "solidity": 0.2
             }
            },
            "type": "bar"
           }
          ],
          "barpolar": [
           {
            "marker": {
             "line": {
              "color": "#E5ECF6",
              "width": 0.5
             },
             "pattern": {
              "fillmode": "overlay",
              "size": 10,
              "solidity": 0.2
             }
            },
            "type": "barpolar"
           }
          ],
          "carpet": [
           {
            "aaxis": {
             "endlinecolor": "#2a3f5f",
             "gridcolor": "white",
             "linecolor": "white",
             "minorgridcolor": "white",
             "startlinecolor": "#2a3f5f"
            },
            "baxis": {
             "endlinecolor": "#2a3f5f",
             "gridcolor": "white",
             "linecolor": "white",
             "minorgridcolor": "white",
             "startlinecolor": "#2a3f5f"
            },
            "type": "carpet"
           }
          ],
          "choropleth": [
           {
            "colorbar": {
             "outlinewidth": 0,
             "ticks": ""
            },
            "type": "choropleth"
           }
          ],
          "contour": [
           {
            "colorbar": {
             "outlinewidth": 0,
             "ticks": ""
            },
            "colorscale": [
             [
              0,
              "#0d0887"
             ],
             [
              0.1111111111111111,
              "#46039f"
             ],
             [
              0.2222222222222222,
              "#7201a8"
             ],
             [
              0.3333333333333333,
              "#9c179e"
             ],
             [
              0.4444444444444444,
              "#bd3786"
             ],
             [
              0.5555555555555556,
              "#d8576b"
             ],
             [
              0.6666666666666666,
              "#ed7953"
             ],
             [
              0.7777777777777778,
              "#fb9f3a"
             ],
             [
              0.8888888888888888,
              "#fdca26"
             ],
             [
              1,
              "#f0f921"
             ]
            ],
            "type": "contour"
           }
          ],
          "contourcarpet": [
           {
            "colorbar": {
             "outlinewidth": 0,
             "ticks": ""
            },
            "type": "contourcarpet"
           }
          ],
          "heatmap": [
           {
            "colorbar": {
             "outlinewidth": 0,
             "ticks": ""
            },
            "colorscale": [
             [
              0,
              "#0d0887"
             ],
             [
              0.1111111111111111,
              "#46039f"
             ],
             [
              0.2222222222222222,
              "#7201a8"
             ],
             [
              0.3333333333333333,
              "#9c179e"
             ],
             [
              0.4444444444444444,
              "#bd3786"
             ],
             [
              0.5555555555555556,
              "#d8576b"
             ],
             [
              0.6666666666666666,
              "#ed7953"
             ],
             [
              0.7777777777777778,
              "#fb9f3a"
             ],
             [
              0.8888888888888888,
              "#fdca26"
             ],
             [
              1,
              "#f0f921"
             ]
            ],
            "type": "heatmap"
           }
          ],
          "histogram": [
           {
            "marker": {
             "pattern": {
              "fillmode": "overlay",
              "size": 10,
              "solidity": 0.2
             }
            },
            "type": "histogram"
           }
          ],
          "histogram2d": [
           {
            "colorbar": {
             "outlinewidth": 0,
             "ticks": ""
            },
            "colorscale": [
             [
              0,
              "#0d0887"
             ],
             [
              0.1111111111111111,
              "#46039f"
             ],
             [
              0.2222222222222222,
              "#7201a8"
             ],
             [
              0.3333333333333333,
              "#9c179e"
             ],
             [
              0.4444444444444444,
              "#bd3786"
             ],
             [
              0.5555555555555556,
              "#d8576b"
             ],
             [
              0.6666666666666666,
              "#ed7953"
             ],
             [
              0.7777777777777778,
              "#fb9f3a"
             ],
             [
              0.8888888888888888,
              "#fdca26"
             ],
             [
              1,
              "#f0f921"
             ]
            ],
            "type": "histogram2d"
           }
          ],
          "histogram2dcontour": [
           {
            "colorbar": {
             "outlinewidth": 0,
             "ticks": ""
            },
            "colorscale": [
             [
              0,
              "#0d0887"
             ],
             [
              0.1111111111111111,
              "#46039f"
             ],
             [
              0.2222222222222222,
              "#7201a8"
             ],
             [
              0.3333333333333333,
              "#9c179e"
             ],
             [
              0.4444444444444444,
              "#bd3786"
             ],
             [
              0.5555555555555556,
              "#d8576b"
             ],
             [
              0.6666666666666666,
              "#ed7953"
             ],
             [
              0.7777777777777778,
              "#fb9f3a"
             ],
             [
              0.8888888888888888,
              "#fdca26"
             ],
             [
              1,
              "#f0f921"
             ]
            ],
            "type": "histogram2dcontour"
           }
          ],
          "mesh3d": [
           {
            "colorbar": {
             "outlinewidth": 0,
             "ticks": ""
            },
            "type": "mesh3d"
           }
          ],
          "parcoords": [
           {
            "line": {
             "colorbar": {
              "outlinewidth": 0,
              "ticks": ""
             }
            },
            "type": "parcoords"
           }
          ],
          "pie": [
           {
            "automargin": true,
            "type": "pie"
           }
          ],
          "scatter": [
           {
            "fillpattern": {
             "fillmode": "overlay",
             "size": 10,
             "solidity": 0.2
            },
            "type": "scatter"
           }
          ],
          "scatter3d": [
           {
            "line": {
             "colorbar": {
              "outlinewidth": 0,
              "ticks": ""
             }
            },
            "marker": {
             "colorbar": {
              "outlinewidth": 0,
              "ticks": ""
             }
            },
            "type": "scatter3d"
           }
          ],
          "scattercarpet": [
           {
            "marker": {
             "colorbar": {
              "outlinewidth": 0,
              "ticks": ""
             }
            },
            "type": "scattercarpet"
           }
          ],
          "scattergeo": [
           {
            "marker": {
             "colorbar": {
              "outlinewidth": 0,
              "ticks": ""
             }
            },
            "type": "scattergeo"
           }
          ],
          "scattergl": [
           {
            "marker": {
             "colorbar": {
              "outlinewidth": 0,
              "ticks": ""
             }
            },
            "type": "scattergl"
           }
          ],
          "scattermap": [
           {
            "marker": {
             "colorbar": {
              "outlinewidth": 0,
              "ticks": ""
             }
            },
            "type": "scattermap"
           }
          ],
          "scattermapbox": [
           {
            "marker": {
             "colorbar": {
              "outlinewidth": 0,
              "ticks": ""
             }
            },
            "type": "scattermapbox"
           }
          ],
          "scatterpolar": [
           {
            "marker": {
             "colorbar": {
              "outlinewidth": 0,
              "ticks": ""
             }
            },
            "type": "scatterpolar"
           }
          ],
          "scatterpolargl": [
           {
            "marker": {
             "colorbar": {
              "outlinewidth": 0,
              "ticks": ""
             }
            },
            "type": "scatterpolargl"
           }
          ],
          "scatterternary": [
           {
            "marker": {
             "colorbar": {
              "outlinewidth": 0,
              "ticks": ""
             }
            },
            "type": "scatterternary"
           }
          ],
          "surface": [
           {
            "colorbar": {
             "outlinewidth": 0,
             "ticks": ""
            },
            "colorscale": [
             [
              0,
              "#0d0887"
             ],
             [
              0.1111111111111111,
              "#46039f"
             ],
             [
              0.2222222222222222,
              "#7201a8"
             ],
             [
              0.3333333333333333,
              "#9c179e"
             ],
             [
              0.4444444444444444,
              "#bd3786"
             ],
             [
              0.5555555555555556,
              "#d8576b"
             ],
             [
              0.6666666666666666,
              "#ed7953"
             ],
             [
              0.7777777777777778,
              "#fb9f3a"
             ],
             [
              0.8888888888888888,
              "#fdca26"
             ],
             [
              1,
              "#f0f921"
             ]
            ],
            "type": "surface"
           }
          ],
          "table": [
           {
            "cells": {
             "fill": {
              "color": "#EBF0F8"
             },
             "line": {
              "color": "white"
             }
            },
            "header": {
             "fill": {
              "color": "#C8D4E3"
             },
             "line": {
              "color": "white"
             }
            },
            "type": "table"
           }
          ]
         },
         "layout": {
          "annotationdefaults": {
           "arrowcolor": "#2a3f5f",
           "arrowhead": 0,
           "arrowwidth": 1
          },
          "autotypenumbers": "strict",
          "coloraxis": {
           "colorbar": {
            "outlinewidth": 0,
            "ticks": ""
           }
          },
          "colorscale": {
           "diverging": [
            [
             0,
             "#8e0152"
            ],
            [
             0.1,
             "#c51b7d"
            ],
            [
             0.2,
             "#de77ae"
            ],
            [
             0.3,
             "#f1b6da"
            ],
            [
             0.4,
             "#fde0ef"
            ],
            [
             0.5,
             "#f7f7f7"
            ],
            [
             0.6,
             "#e6f5d0"
            ],
            [
             0.7,
             "#b8e186"
            ],
            [
             0.8,
             "#7fbc41"
            ],
            [
             0.9,
             "#4d9221"
            ],
            [
             1,
             "#276419"
            ]
           ],
           "sequential": [
            [
             0,
             "#0d0887"
            ],
            [
             0.1111111111111111,
             "#46039f"
            ],
            [
             0.2222222222222222,
             "#7201a8"
            ],
            [
             0.3333333333333333,
             "#9c179e"
            ],
            [
             0.4444444444444444,
             "#bd3786"
            ],
            [
             0.5555555555555556,
             "#d8576b"
            ],
            [
             0.6666666666666666,
             "#ed7953"
            ],
            [
             0.7777777777777778,
             "#fb9f3a"
            ],
            [
             0.8888888888888888,
             "#fdca26"
            ],
            [
             1,
             "#f0f921"
            ]
           ],
           "sequentialminus": [
            [
             0,
             "#0d0887"
            ],
            [
             0.1111111111111111,
             "#46039f"
            ],
            [
             0.2222222222222222,
             "#7201a8"
            ],
            [
             0.3333333333333333,
             "#9c179e"
            ],
            [
             0.4444444444444444,
             "#bd3786"
            ],
            [
             0.5555555555555556,
             "#d8576b"
            ],
            [
             0.6666666666666666,
             "#ed7953"
            ],
            [
             0.7777777777777778,
             "#fb9f3a"
            ],
            [
             0.8888888888888888,
             "#fdca26"
            ],
            [
             1,
             "#f0f921"
            ]
           ]
          },
          "colorway": [
           "#636efa",
           "#EF553B",
           "#00cc96",
           "#ab63fa",
           "#FFA15A",
           "#19d3f3",
           "#FF6692",
           "#B6E880",
           "#FF97FF",
           "#FECB52"
          ],
          "font": {
           "color": "#2a3f5f"
          },
          "geo": {
           "bgcolor": "white",
           "lakecolor": "white",
           "landcolor": "#E5ECF6",
           "showlakes": true,
           "showland": true,
           "subunitcolor": "white"
          },
          "hoverlabel": {
           "align": "left"
          },
          "hovermode": "closest",
          "mapbox": {
           "style": "light"
          },
          "paper_bgcolor": "white",
          "plot_bgcolor": "#E5ECF6",
          "polar": {
           "angularaxis": {
            "gridcolor": "white",
            "linecolor": "white",
            "ticks": ""
           },
           "bgcolor": "#E5ECF6",
           "radialaxis": {
            "gridcolor": "white",
            "linecolor": "white",
            "ticks": ""
           }
          },
          "scene": {
           "xaxis": {
            "backgroundcolor": "#E5ECF6",
            "gridcolor": "white",
            "gridwidth": 2,
            "linecolor": "white",
            "showbackground": true,
            "ticks": "",
            "zerolinecolor": "white"
           },
           "yaxis": {
            "backgroundcolor": "#E5ECF6",
            "gridcolor": "white",
            "gridwidth": 2,
            "linecolor": "white",
            "showbackground": true,
            "ticks": "",
            "zerolinecolor": "white"
           },
           "zaxis": {
            "backgroundcolor": "#E5ECF6",
            "gridcolor": "white",
            "gridwidth": 2,
            "linecolor": "white",
            "showbackground": true,
            "ticks": "",
            "zerolinecolor": "white"
           }
          },
          "shapedefaults": {
           "line": {
            "color": "#2a3f5f"
           }
          },
          "ternary": {
           "aaxis": {
            "gridcolor": "white",
            "linecolor": "white",
            "ticks": ""
           },
           "baxis": {
            "gridcolor": "white",
            "linecolor": "white",
            "ticks": ""
           },
           "bgcolor": "#E5ECF6",
           "caxis": {
            "gridcolor": "white",
            "linecolor": "white",
            "ticks": ""
           }
          },
          "title": {
           "x": 0.05
          },
          "xaxis": {
           "automargin": true,
           "gridcolor": "white",
           "linecolor": "white",
           "ticks": "",
           "title": {
            "standoff": 15
           },
           "zerolinecolor": "white",
           "zerolinewidth": 2
          },
          "yaxis": {
           "automargin": true,
           "gridcolor": "white",
           "linecolor": "white",
           "ticks": "",
           "title": {
            "standoff": 15
           },
           "zerolinecolor": "white",
           "zerolinewidth": 2
          }
         }
        },
        "xaxis": {
         "anchor": "y",
         "domain": [
          0,
          1
         ],
         "title": {
          "text": "Year"
         }
        },
        "yaxis": {
         "anchor": "x",
         "domain": [
          0,
          1
         ],
         "title": {
          "text": "Medal"
         }
        }
       }
      }
     },
     "metadata": {},
     "output_type": "display_data"
    }
   ],
   "source": [
    "fig = px.line(final_df, x=\"Year\", y=\"Medal\")\n",
    "fig.show()"
   ]
  },
  {
   "cell_type": "code",
   "execution_count": 14,
   "id": "ec4f7361",
   "metadata": {},
   "outputs": [
    {
     "data": {
      "text/plain": [
       "<Axes: xlabel='Year', ylabel='Sport'>"
      ]
     },
     "execution_count": 14,
     "metadata": {},
     "output_type": "execute_result"
    },
    {
     "data": {
      "image/png": "[encoded data removed]",
      "text/plain": [
       "<Figure size 2000x2000 with 2 Axes>"
      ]
     },
     "metadata": {},
     "output_type": "display_data"
    }
   ],
   "source": [
    "new_df = temp_df[temp_df['region'] == 'USA']\n",
    "plt.figure(figsize=(20,20))\n",
    "sns.heatmap(new_df.pivot_table(index='Sport',columns='Year',values='Medal', aggfunc='count').fillna(0),annot=True)"
   ]
  },
  {
   "cell_type": "code",
   "execution_count": 15,
   "id": "c80fb612",
   "metadata": {},
   "outputs": [],
   "source": [
    "def most_successful(df,country):\n",
    "    temp_df = df.dropna(subset=['Medal'])\n",
    "\n",
    "    \n",
    "    temp_df = temp_df[temp_df['region'] == country]\n",
    "    \n",
    "    x= temp_df['Name'].value_counts().reset_index().head(15).merge(df,left_on='Name',right_on='Name',how='left')[['Name','count','Sport']].drop_duplicates('Name')\n",
    "    x.rename(columns={'count':'Medals'},inplace=True)\n",
    "    return x"
   ]
  },
  {
   "cell_type": "code",
   "execution_count": 16,
   "id": "a3b37ae3",
   "metadata": {},
   "outputs": [
    {
     "data": {
      "text/html": [
       "<div>\n",
       "<style scoped>\n",
       "    .dataframe tbody tr th:only-of-type {\n",
       "        vertical-align: middle;\n",
       "    }\n",
       "\n",
       "    .dataframe tbody tr th {\n",
       "        vertical-align: top;\n",
       "    }\n",
       "\n",
       "    .dataframe thead th {\n",
       "        text-align: right;\n",
       "    }\n",
       "</style>\n",
       "<table border=\"1\" class=\"dataframe\">\n",
       "  <thead>\n",
       "    <tr style=\"text-align: right;\">\n",
       "      <th></th>\n",
       "      <th>Name</th>\n",
       "      <th>Medals</th>\n",
       "      <th>Sport</th>\n",
       "    </tr>\n",
       "  </thead>\n",
       "  <tbody>\n",
       "    <tr>\n",
       "      <th>0</th>\n",
       "      <td>Manzoor Hussain Atif</td>\n",
       "      <td>3</td>\n",
       "      <td>Hockey</td>\n",
       "    </tr>\n",
       "    <tr>\n",
       "      <th>4</th>\n",
       "      <td>Saeed Anwar</td>\n",
       "      <td>3</td>\n",
       "      <td>Hockey</td>\n",
       "    </tr>\n",
       "    <tr>\n",
       "      <th>7</th>\n",
       "      <td>Anwar Ahmed Khan</td>\n",
       "      <td>3</td>\n",
       "      <td>Hockey</td>\n",
       "    </tr>\n",
       "    <tr>\n",
       "      <th>10</th>\n",
       "      <td>Abdul Hamid</td>\n",
       "      <td>3</td>\n",
       "      <td>Hockey</td>\n",
       "    </tr>\n",
       "    <tr>\n",
       "      <th>15</th>\n",
       "      <td>Muhammad Asad Malik</td>\n",
       "      <td>3</td>\n",
       "      <td>Hockey</td>\n",
       "    </tr>\n",
       "    <tr>\n",
       "      <th>18</th>\n",
       "      <td>Motiullah Khan</td>\n",
       "      <td>3</td>\n",
       "      <td>Hockey</td>\n",
       "    </tr>\n",
       "    <tr>\n",
       "      <th>21</th>\n",
       "      <td>Abdul Rashid</td>\n",
       "      <td>3</td>\n",
       "      <td>Athletics</td>\n",
       "    </tr>\n",
       "    <tr>\n",
       "      <th>27</th>\n",
       "      <td>Salim Sherwani</td>\n",
       "      <td>3</td>\n",
       "      <td>Hockey</td>\n",
       "    </tr>\n",
       "    <tr>\n",
       "      <th>30</th>\n",
       "      <td>Mudassar Asghar Saeed</td>\n",
       "      <td>2</td>\n",
       "      <td>Hockey</td>\n",
       "    </tr>\n",
       "    <tr>\n",
       "      <th>32</th>\n",
       "      <td>Noor Alam</td>\n",
       "      <td>2</td>\n",
       "      <td>Hockey</td>\n",
       "    </tr>\n",
       "    <tr>\n",
       "      <th>34</th>\n",
       "      <td>Habib Ali Kiddie</td>\n",
       "      <td>2</td>\n",
       "      <td>Hockey</td>\n",
       "    </tr>\n",
       "    <tr>\n",
       "      <th>37</th>\n",
       "      <td>Zakir Hussain</td>\n",
       "      <td>2</td>\n",
       "      <td>Hockey</td>\n",
       "    </tr>\n",
       "    <tr>\n",
       "      <th>39</th>\n",
       "      <td>Tariq Aziz</td>\n",
       "      <td>2</td>\n",
       "      <td>Hockey</td>\n",
       "    </tr>\n",
       "    <tr>\n",
       "      <th>42</th>\n",
       "      <td>Ahmed Naseer Bunda</td>\n",
       "      <td>2</td>\n",
       "      <td>Hockey</td>\n",
       "    </tr>\n",
       "    <tr>\n",
       "      <th>44</th>\n",
       "      <td>Islah-ud-Din Siddiqui</td>\n",
       "      <td>2</td>\n",
       "      <td>Hockey</td>\n",
       "    </tr>\n",
       "  </tbody>\n",
       "</table>\n",
       "</div>"
      ],
      "text/plain": [
       "                     Name  Medals      Sport\n",
       "0    Manzoor Hussain Atif       3     Hockey\n",
       "4             Saeed Anwar       3     Hockey\n",
       "7        Anwar Ahmed Khan       3     Hockey\n",
       "10            Abdul Hamid       3     Hockey\n",
       "15    Muhammad Asad Malik       3     Hockey\n",
       "18         Motiullah Khan       3     Hockey\n",
       "21           Abdul Rashid       3  Athletics\n",
       "27         Salim Sherwani       3     Hockey\n",
       "30  Mudassar Asghar Saeed       2     Hockey\n",
       "32              Noor Alam       2     Hockey\n",
       "34       Habib Ali Kiddie       2     Hockey\n",
       "37          Zakir Hussain       2     Hockey\n",
       "39             Tariq Aziz       2     Hockey\n",
       "42     Ahmed Naseer Bunda       2     Hockey\n",
       "44  Islah-ud-Din Siddiqui       2     Hockey"
      ]
     },
     "execution_count": 16,
     "metadata": {},
     "output_type": "execute_result"
    }
   ],
   "source": [
    "most_successful(df,'Pakistan')"
   ]
  },
  {
   "cell_type": "code",
   "execution_count": 17,
   "id": "379ad279",
   "metadata": {},
   "outputs": [],
   "source": [
    "import plotly.figure_factory as ff"
   ]
  },
  {
   "cell_type": "code",
   "execution_count": 18,
   "id": "57c3232e",
   "metadata": {},
   "outputs": [],
   "source": [
    "athlete_df = df.drop_duplicates(subset=['Name','region'])"
   ]
  },
  {
   "cell_type": "code",
   "execution_count": 19,
   "id": "3bde9841",
   "metadata": {},
   "outputs": [],
   "source": [
    "x1  = athlete_df['Age'].dropna()\n",
    "x2 = athlete_df[athlete_df['Medal'] == 'Gold']['Age'].dropna()\n",
    "x3 = athlete_df[athlete_df['Medal'] == 'Silver']['Age'].dropna()\n",
    "x4 = athlete_df[athlete_df['Medal'] == 'Bronze']['Age'].dropna()"
   ]
  },
  {
   "cell_type": "code",
   "execution_count": 28,
   "id": "061d447b",
   "metadata": {},
   "outputs": [
    {
     "data": {
      "application/vnd.plotly.v1+json": {
       "config": {
        "plotlyServerURL": "https://plot.ly"
       },
       "data": [
        {
         "legendgroup": "Overall Age",
         "marker": {
          "color": "rgb(31, 119, 180)"
         },
         "mode": "lines",
         "name": "Overall Age",
         "showlegend": true,
         "type": "scatter",
         "x": [
          10,
          10.174,
          10.348,
          10.522,
          10.696,
          10.87,
          11.044,
          11.218,
          11.392,
          11.566,
          11.74,
          11.914,
          12.088000000000001,
          12.262,
          12.436,
          12.61,
          12.783999999999999,
          12.958,
          13.132,
          13.306000000000001,
          13.48,
          13.654,
          13.828,
          14.001999999999999,
          14.176,
          14.35,
          14.524000000000001,
          14.698,
          14.872,
          15.046,
          15.219999999999999,
          15.394,
          15.568,
          15.742,
          15.916,
          16.09,
          16.264,
          16.438,
          16.612000000000002,
          16.786,
          16.96,
          17.134,
          17.308,
          17.482,
          17.656,
          17.83,
          18.003999999999998,
          18.178,
          18.352,
          18.526,
          18.7,
          18.874000000000002,
          19.048000000000002,
          19.222,
          19.396,
          19.57,
          19.744,
          19.918,
          20.092,
          20.266,
          20.439999999999998,
          20.614,
          20.788,
          20.962,
          21.136,
          21.310000000000002,
          21.484,
          21.658,
          21.832,
          22.006,
          22.18,
          22.354,
          22.528,
          22.701999999999998,
          22.875999999999998,
          23.05,
          23.224,
          23.398,
          23.572,
          23.746000000000002,
          23.92,
          24.094,
          24.268,
          24.442,
          24.616,
          24.79,
          24.964,
          25.137999999999998,
          25.311999999999998,
          25.486,
          25.66,
          25.834,
          26.008,
          26.182,
          26.356,
          26.53,
          26.704,
          26.878,
          27.052,
          27.226,
          27.4,
          27.574,
          27.748,
          27.922,
          28.096,
          28.27,
          28.444,
          28.618,
          28.792,
          28.966,
          29.14,
          29.314,
          29.488,
          29.662,
          29.836,
          30.01,
          30.184,
          30.358,
          30.532,
          30.706,
          30.88,
          31.054,
          31.228,
          31.402,
          31.576,
          31.75,
          31.924,
          32.098,
          32.272,
          32.446,
          32.620000000000005,
          32.794,
          32.968,
          33.141999999999996,
          33.316,
          33.489999999999995,
          33.664,
          33.838,
          34.012,
          34.186,
          34.36,
          34.534,
          34.708,
          34.882000000000005,
          35.056,
          35.230000000000004,
          35.403999999999996,
          35.578,
          35.751999999999995,
          35.926,
          36.1,
          36.274,
          36.448,
          36.622,
          36.796,
          36.97,
          37.144,
          37.318,
          37.492000000000004,
          37.666,
          37.84,
          38.013999999999996,
          38.188,
          38.361999999999995,
          38.536,
          38.71,
          38.884,
          39.058,
          39.232,
          39.406,
          39.58,
          39.754000000000005,
          39.928,
          40.102000000000004,
          40.275999999999996,
          40.45,
          40.623999999999995,
          40.798,
          40.972,
          41.146,
          41.32,
          41.494,
          41.668,
          41.842,
          42.016,
          42.19,
          42.364,
          42.538,
          42.712,
          42.886,
          43.06,
          43.234,
          43.408,
          43.582,
          43.756,
          43.93,
          44.104,
          44.278,
          44.452,
          44.626,
          44.8,
          44.974,
          45.148,
          45.322,
          45.496,
          45.67,
          45.844,
          46.018,
          46.192,
          46.366,
          46.54,
          46.714,
          46.888,
          47.062,
          47.236,
          47.41,
          47.584,
          47.758,
          47.932,
          48.106,
          48.28,
          48.454,
          48.628,
          48.802,
          48.976,
          49.15,
          49.324,
          49.498,
          49.672,
          49.846,
          50.02,
          50.194,
          50.368,
          50.542,
          50.716,
          50.89,
          51.064,
          51.238,
          51.412,
          51.586,
          51.76,
          51.934,
          52.108,
          52.282,
          52.456,
          52.63,
          52.804,
          52.978,
          53.152,
          53.326,
          53.5,
          53.674,
          53.848,
          54.022,
          54.196,
          54.37,
          54.544,
          54.718,
          54.892,
          55.066,
          55.24,
          55.414,
          55.588,
          55.762,
          55.936,
          56.11,
          56.284,
          56.458,
          56.632,
          56.806,
          56.98,
          57.154,
          57.328,
          57.502,
          57.676,
          57.85,
          58.024,
          58.198,
          58.372,
          58.546,
          58.72,
          58.894,
          59.068,
          59.242,
          59.416,
          59.59,
          59.764,
          59.938,
          60.112,
          60.286,
          60.46,
          60.634,
          60.808,
          60.982,
          61.156,
          61.33,
          61.504,
          61.678,
          61.852,
          62.026,
          62.2,
          62.374,
          62.548,
          62.722,
          62.896,
          63.07,
          63.244,
          63.418,
          63.592,
          63.766,
          63.94,
          64.114,
          64.288,
          64.462,
          64.636,
          64.81,
          64.98400000000001,
          65.158,
          65.332,
          65.506,
          65.68,
          65.854,
          66.02799999999999,
          66.202,
          66.376,
          66.55,
          66.72399999999999,
          66.898,
          67.072,
          67.24600000000001,
          67.42,
          67.594,
          67.768,
          67.94200000000001,
          68.116,
          68.28999999999999,
          68.464,
          68.638,
          68.812,
          68.98599999999999,
          69.16,
          69.334,
          69.50800000000001,
          69.682,
          69.856,
          70.03,
          70.20400000000001,
          70.378,
          70.55199999999999,
          70.726,
          70.9,
          71.074,
          71.24799999999999,
          71.422,
          71.596,
          71.77000000000001,
          71.944,
          72.118,
          72.292,
          72.46600000000001,
          72.64,
          72.814,
          72.988,
          73.162,
          73.336,
          73.50999999999999,
          73.684,
          73.858,
          74.032,
          74.206,
          74.38,
          74.554,
          74.728,
          74.902,
          75.076,
          75.25,
          75.424,
          75.598,
          75.772,
          75.946,
          76.12,
          76.294,
          76.468,
          76.642,
          76.816,
          76.99,
          77.164,
          77.338,
          77.512,
          77.686,
          77.86,
          78.034,
          78.208,
          78.382,
          78.556,
          78.73,
          78.904,
          79.078,
          79.252,
          79.426,
          79.6,
          79.774,
          79.948,
          80.122,
          80.296,
          80.47,
          80.644,
          80.818,
          80.992,
          81.166,
          81.34,
          81.514,
          81.688,
          81.862,
          82.036,
          82.21,
          82.384,
          82.558,
          82.732,
          82.906,
          83.08,
          83.254,
          83.428,
          83.602,
          83.776,
          83.95,
          84.124,
          84.298,
          84.472,
          84.646,
          84.82,
          84.994,
          85.168,
          85.342,
          85.516,
          85.69,
          85.864,
          86.038,
          86.212,
          86.386,
          86.56,
          86.734,
          86.908,
          87.082,
          87.256,
          87.43,
          87.604,
          87.778,
          87.952,
          88.126,
          88.3,
          88.474,
          88.648,
          88.822,
          88.996,
          89.17,
          89.344,
          89.518,
          89.692,
          89.866,
          90.04,
          90.214,
          90.388,
          90.562,
          90.736,
          90.91,
          91.084,
          91.258,
          91.432,
          91.606,
          91.78,
          91.954,
          92.128,
          92.302,
          92.476,
          92.65,
          92.824,
          92.998,
          93.172,
          93.346,
          93.52,
          93.694,
          93.868,
          94.042,
          94.216,
          94.39,
          94.564,
          94.738,
          94.912,
          95.086,
          95.26,
          95.434,
          95.608,
          95.782,
          95.956,
          96.13,
          96.304,
          96.478,
          96.652,
          96.826
         ],
         "xaxis": "x",
         "y": {
          "bdata": "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",
          "dtype": "f8"
         },
         "yaxis": "y"
        },
        {
         "legendgroup": "Gold Medalist",
         "marker": {
          "color": "rgb(255, 127, 14)"
         },
         "mode": "lines",
         "name": "Gold Medalist",
         "showlegend": true,
         "type": "scatter",
         "x": [
          13,
          13.102,
          13.204,
          13.306,
          13.408,
          13.51,
          13.612,
          13.714,
          13.816,
          13.918,
          14.02,
          14.122,
          14.224,
          14.326,
          14.428,
          14.53,
          14.632,
          14.734,
          14.836,
          14.938,
          15.04,
          15.142,
          15.244,
          15.346,
          15.448,
          15.55,
          15.652000000000001,
          15.754,
          15.856,
          15.958,
          16.06,
          16.162,
          16.264,
          16.366,
          16.468,
          16.57,
          16.672,
          16.774,
          16.876,
          16.978,
          17.08,
          17.182000000000002,
          17.284,
          17.386,
          17.488,
          17.59,
          17.692,
          17.794,
          17.896,
          17.998,
          18.1,
          18.201999999999998,
          18.304000000000002,
          18.406,
          18.508,
          18.61,
          18.712,
          18.814,
          18.916,
          19.018,
          19.12,
          19.222,
          19.323999999999998,
          19.426000000000002,
          19.528,
          19.63,
          19.732,
          19.834,
          19.936,
          20.038,
          20.14,
          20.242,
          20.344,
          20.445999999999998,
          20.548000000000002,
          20.65,
          20.752,
          20.854,
          20.956,
          21.058,
          21.16,
          21.262,
          21.364,
          21.466,
          21.567999999999998,
          21.67,
          21.772,
          21.874000000000002,
          21.976,
          22.078,
          22.18,
          22.282,
          22.384,
          22.486,
          22.588,
          22.689999999999998,
          22.792,
          22.894,
          22.996000000000002,
          23.098,
          23.2,
          23.302,
          23.404,
          23.506,
          23.608,
          23.71,
          23.811999999999998,
          23.914,
          24.016,
          24.118000000000002,
          24.22,
          24.322,
          24.424,
          24.526,
          24.628,
          24.73,
          24.832,
          24.933999999999997,
          25.036,
          25.137999999999998,
          25.240000000000002,
          25.342,
          25.444000000000003,
          25.546,
          25.648,
          25.75,
          25.852,
          25.954,
          26.055999999999997,
          26.158,
          26.259999999999998,
          26.362000000000002,
          26.464,
          26.566000000000003,
          26.668,
          26.77,
          26.872,
          26.974,
          27.076,
          27.178,
          27.28,
          27.381999999999998,
          27.484,
          27.586,
          27.688000000000002,
          27.79,
          27.892,
          27.994,
          28.096,
          28.198,
          28.3,
          28.402,
          28.503999999999998,
          28.606,
          28.708,
          28.810000000000002,
          28.912,
          29.014,
          29.116,
          29.218,
          29.32,
          29.422,
          29.524,
          29.626,
          29.728,
          29.83,
          29.932,
          30.034,
          30.136,
          30.238,
          30.34,
          30.442,
          30.544,
          30.646,
          30.748,
          30.85,
          30.952,
          31.054,
          31.156,
          31.258,
          31.36,
          31.462,
          31.564,
          31.666,
          31.768,
          31.87,
          31.972,
          32.074,
          32.176,
          32.278,
          32.379999999999995,
          32.482,
          32.584,
          32.686,
          32.788,
          32.89,
          32.992000000000004,
          33.094,
          33.196,
          33.298,
          33.4,
          33.501999999999995,
          33.604,
          33.706,
          33.808,
          33.91,
          34.012,
          34.114000000000004,
          34.216,
          34.318,
          34.42,
          34.522,
          34.623999999999995,
          34.726,
          34.828,
          34.93,
          35.032,
          35.134,
          35.236000000000004,
          35.338,
          35.44,
          35.542,
          35.644,
          35.745999999999995,
          35.848,
          35.95,
          36.052,
          36.153999999999996,
          36.256,
          36.358000000000004,
          36.46,
          36.562,
          36.664,
          36.766,
          36.867999999999995,
          36.97,
          37.072,
          37.174,
          37.275999999999996,
          37.378,
          37.480000000000004,
          37.582,
          37.684,
          37.786,
          37.888000000000005,
          37.989999999999995,
          38.092,
          38.194,
          38.296,
          38.397999999999996,
          38.5,
          38.602000000000004,
          38.704,
          38.806,
          38.908,
          39.010000000000005,
          39.111999999999995,
          39.214,
          39.316,
          39.418,
          39.519999999999996,
          39.622,
          39.724000000000004,
          39.826,
          39.928,
          40.03,
          40.132000000000005,
          40.234,
          40.336,
          40.438,
          40.54,
          40.641999999999996,
          40.744,
          40.846000000000004,
          40.948,
          41.05,
          41.152,
          41.254000000000005,
          41.356,
          41.458,
          41.56,
          41.662,
          41.763999999999996,
          41.866,
          41.968,
          42.07,
          42.172,
          42.274,
          42.376000000000005,
          42.478,
          42.58,
          42.682,
          42.784,
          42.885999999999996,
          42.988,
          43.09,
          43.192,
          43.294,
          43.396,
          43.498000000000005,
          43.6,
          43.702,
          43.804,
          43.906,
          44.007999999999996,
          44.11,
          44.212,
          44.314,
          44.416,
          44.518,
          44.620000000000005,
          44.722,
          44.824,
          44.926,
          45.028,
          45.13,
          45.232,
          45.334,
          45.436,
          45.538,
          45.64,
          45.742,
          45.844,
          45.946,
          46.048,
          46.15,
          46.252,
          46.354,
          46.456,
          46.558,
          46.66,
          46.762,
          46.864,
          46.966,
          47.068,
          47.17,
          47.272,
          47.374,
          47.476,
          47.578,
          47.68,
          47.782,
          47.884,
          47.986,
          48.088,
          48.19,
          48.292,
          48.394,
          48.496,
          48.598,
          48.7,
          48.802,
          48.904,
          49.006,
          49.108,
          49.21,
          49.312,
          49.414,
          49.516,
          49.618,
          49.72,
          49.822,
          49.924,
          50.026,
          50.128,
          50.23,
          50.332,
          50.434,
          50.536,
          50.638,
          50.74,
          50.842,
          50.944,
          51.046,
          51.148,
          51.25,
          51.352,
          51.454,
          51.556,
          51.658,
          51.76,
          51.862,
          51.964,
          52.066,
          52.168,
          52.27,
          52.372,
          52.474,
          52.576,
          52.678,
          52.78,
          52.882,
          52.984,
          53.086,
          53.188,
          53.29,
          53.392,
          53.494,
          53.596,
          53.698,
          53.8,
          53.902,
          54.004,
          54.106,
          54.208,
          54.31,
          54.412,
          54.514,
          54.616,
          54.718,
          54.82,
          54.922,
          55.024,
          55.126,
          55.228,
          55.33,
          55.432,
          55.534,
          55.636,
          55.738,
          55.84,
          55.942,
          56.044,
          56.146,
          56.248,
          56.35,
          56.452,
          56.554,
          56.656,
          56.758,
          56.86,
          56.962,
          57.064,
          57.166,
          57.268,
          57.37,
          57.472,
          57.574,
          57.676,
          57.778,
          57.88,
          57.982,
          58.084,
          58.186,
          58.288,
          58.39,
          58.492,
          58.594,
          58.696,
          58.798,
          58.9,
          59.002,
          59.104,
          59.206,
          59.308,
          59.41,
          59.512,
          59.614,
          59.716,
          59.818,
          59.92,
          60.022,
          60.124,
          60.226,
          60.328,
          60.43,
          60.532,
          60.634,
          60.736,
          60.838,
          60.94,
          61.042,
          61.144,
          61.246,
          61.348,
          61.45,
          61.552,
          61.654,
          61.756,
          61.858,
          61.96,
          62.062,
          62.164,
          62.266,
          62.368,
          62.47,
          62.572,
          62.674,
          62.776,
          62.878,
          62.98,
          63.082,
          63.184,
          63.286,
          63.388,
          63.49,
          63.592,
          63.694,
          63.796,
          63.898
         ],
         "xaxis": "x",
         "y": {
          "bdata": "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",
          "dtype": "f8"
         },
         "yaxis": "y"
        },
        {
         "legendgroup": "Silver Medalist",
         "marker": {
          "color": "rgb(44, 160, 44)"
         },
         "mode": "lines",
         "name": "Silver Medalist",
         "showlegend": true,
         "type": "scatter",
         "x": [
          11,
          11.124,
          11.248,
          11.372,
          11.496,
          11.62,
          11.744,
          11.868,
          11.992,
          12.116,
          12.24,
          12.364,
          12.488,
          12.612,
          12.736,
          12.86,
          12.984,
          13.108,
          13.232,
          13.356,
          13.48,
          13.604,
          13.728,
          13.852,
          13.975999999999999,
          14.1,
          14.224,
          14.347999999999999,
          14.472,
          14.596,
          14.72,
          14.844,
          14.968,
          15.091999999999999,
          15.216000000000001,
          15.34,
          15.464,
          15.588000000000001,
          15.712,
          15.836,
          15.96,
          16.084,
          16.208,
          16.332,
          16.456,
          16.58,
          16.704,
          16.828,
          16.951999999999998,
          17.076,
          17.2,
          17.323999999999998,
          17.448,
          17.572,
          17.695999999999998,
          17.82,
          17.944,
          18.067999999999998,
          18.192,
          18.316,
          18.44,
          18.564,
          18.688,
          18.812,
          18.936,
          19.060000000000002,
          19.183999999999997,
          19.308,
          19.432000000000002,
          19.555999999999997,
          19.68,
          19.804000000000002,
          19.928,
          20.052,
          20.176000000000002,
          20.3,
          20.424,
          20.548000000000002,
          20.672,
          20.796,
          20.92,
          21.044,
          21.168,
          21.292,
          21.416,
          21.54,
          21.664,
          21.788,
          21.912,
          22.036,
          22.16,
          22.284,
          22.408,
          22.532,
          22.656,
          22.78,
          22.904,
          23.028,
          23.152,
          23.276,
          23.4,
          23.524,
          23.648,
          23.772,
          23.896,
          24.02,
          24.144,
          24.268,
          24.392,
          24.516,
          24.64,
          24.764,
          24.887999999999998,
          25.012,
          25.136,
          25.259999999999998,
          25.384,
          25.508,
          25.631999999999998,
          25.756,
          25.880000000000003,
          26.003999999999998,
          26.128,
          26.252000000000002,
          26.375999999999998,
          26.5,
          26.624000000000002,
          26.747999999999998,
          26.872,
          26.996000000000002,
          27.12,
          27.244,
          27.368,
          27.492,
          27.616,
          27.74,
          27.864,
          27.988,
          28.112,
          28.236,
          28.36,
          28.484,
          28.608,
          28.732,
          28.856,
          28.98,
          29.104,
          29.228,
          29.352,
          29.476,
          29.6,
          29.724,
          29.848,
          29.972,
          30.096,
          30.22,
          30.344,
          30.468,
          30.592,
          30.716,
          30.84,
          30.964,
          31.088,
          31.212,
          31.336,
          31.46,
          31.584,
          31.708,
          31.832,
          31.956,
          32.08,
          32.204,
          32.328,
          32.452,
          32.576,
          32.7,
          32.824,
          32.948,
          33.072,
          33.196,
          33.32,
          33.444,
          33.568,
          33.692,
          33.816,
          33.94,
          34.064,
          34.188,
          34.312,
          34.436,
          34.56,
          34.684,
          34.808,
          34.932,
          35.056,
          35.18,
          35.304,
          35.428,
          35.552,
          35.676,
          35.8,
          35.924,
          36.048,
          36.172,
          36.296,
          36.42,
          36.544,
          36.668,
          36.792,
          36.916,
          37.04,
          37.164,
          37.288,
          37.412,
          37.536,
          37.66,
          37.784,
          37.908,
          38.032,
          38.156,
          38.28,
          38.403999999999996,
          38.528,
          38.652,
          38.775999999999996,
          38.9,
          39.024,
          39.147999999999996,
          39.272,
          39.396,
          39.519999999999996,
          39.644,
          39.768,
          39.891999999999996,
          40.016,
          40.14,
          40.263999999999996,
          40.388000000000005,
          40.512,
          40.635999999999996,
          40.760000000000005,
          40.884,
          41.007999999999996,
          41.132000000000005,
          41.256,
          41.379999999999995,
          41.504000000000005,
          41.628,
          41.751999999999995,
          41.876000000000005,
          42,
          42.123999999999995,
          42.248000000000005,
          42.372,
          42.495999999999995,
          42.620000000000005,
          42.744,
          42.867999999999995,
          42.992000000000004,
          43.116,
          43.24,
          43.364,
          43.488,
          43.612,
          43.736,
          43.86,
          43.984,
          44.108,
          44.232,
          44.356,
          44.48,
          44.604,
          44.728,
          44.852,
          44.976,
          45.1,
          45.224,
          45.348,
          45.472,
          45.596,
          45.72,
          45.844,
          45.968,
          46.092,
          46.216,
          46.34,
          46.464,
          46.588,
          46.712,
          46.836,
          46.96,
          47.084,
          47.208,
          47.332,
          47.456,
          47.58,
          47.704,
          47.828,
          47.952,
          48.076,
          48.2,
          48.324,
          48.448,
          48.572,
          48.696,
          48.82,
          48.944,
          49.068,
          49.192,
          49.316,
          49.44,
          49.564,
          49.688,
          49.812,
          49.936,
          50.06,
          50.184,
          50.308,
          50.432,
          50.556,
          50.68,
          50.804,
          50.928,
          51.052,
          51.176,
          51.3,
          51.424,
          51.548,
          51.672,
          51.796,
          51.92,
          52.044,
          52.168,
          52.292,
          52.416,
          52.54,
          52.664,
          52.788,
          52.912,
          53.036,
          53.16,
          53.284,
          53.408,
          53.532,
          53.656,
          53.78,
          53.904,
          54.028,
          54.152,
          54.276,
          54.4,
          54.524,
          54.648,
          54.772,
          54.896,
          55.02,
          55.144,
          55.268,
          55.392,
          55.516,
          55.64,
          55.764,
          55.888,
          56.012,
          56.136,
          56.26,
          56.384,
          56.508,
          56.632,
          56.756,
          56.88,
          57.004,
          57.128,
          57.252,
          57.376,
          57.5,
          57.624,
          57.748,
          57.872,
          57.996,
          58.12,
          58.244,
          58.368,
          58.492,
          58.616,
          58.74,
          58.864,
          58.988,
          59.112,
          59.236,
          59.36,
          59.484,
          59.608,
          59.732,
          59.856,
          59.98,
          60.104,
          60.228,
          60.352,
          60.476,
          60.6,
          60.724,
          60.848,
          60.972,
          61.096,
          61.22,
          61.344,
          61.468,
          61.592,
          61.716,
          61.84,
          61.964,
          62.088,
          62.212,
          62.336,
          62.46,
          62.584,
          62.708,
          62.832,
          62.956,
          63.08,
          63.204,
          63.328,
          63.452,
          63.576,
          63.7,
          63.824,
          63.948,
          64.072,
          64.196,
          64.32,
          64.444,
          64.568,
          64.69200000000001,
          64.816,
          64.94,
          65.064,
          65.188,
          65.312,
          65.436,
          65.56,
          65.684,
          65.80799999999999,
          65.932,
          66.056,
          66.18,
          66.304,
          66.428,
          66.55199999999999,
          66.676,
          66.8,
          66.924,
          67.048,
          67.172,
          67.29599999999999,
          67.42,
          67.544,
          67.668,
          67.792,
          67.916,
          68.03999999999999,
          68.164,
          68.288,
          68.412,
          68.536,
          68.66,
          68.78399999999999,
          68.908,
          69.032,
          69.156,
          69.28,
          69.404,
          69.52799999999999,
          69.652,
          69.77600000000001,
          69.9,
          70.024,
          70.148,
          70.27199999999999,
          70.396,
          70.52000000000001,
          70.644,
          70.768,
          70.892,
          71.01599999999999,
          71.14,
          71.26400000000001,
          71.388,
          71.512,
          71.636,
          71.75999999999999,
          71.884,
          72.00800000000001,
          72.132,
          72.256,
          72.38,
          72.50399999999999,
          72.628,
          72.75200000000001,
          72.876
         ],
         "xaxis": "x",
         "y": {
          "bdata": "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",
          "dtype": "f8"
         },
         "yaxis": "y"
        },
        {
         "legendgroup": "Bronze Medalist",
         "marker": {
          "color": "rgb(214, 39, 40)"
         },
         "mode": "lines",
         "name": "Bronze Medalist",
         "showlegend": true,
         "type": "scatter",
         "x": [
          10,
          10.124,
          10.248,
          10.372,
          10.496,
          10.62,
          10.744,
          10.868,
          10.992,
          11.116,
          11.24,
          11.364,
          11.488,
          11.612,
          11.736,
          11.86,
          11.984,
          12.108,
          12.232,
          12.356,
          12.48,
          12.604,
          12.728,
          12.852,
          12.975999999999999,
          13.1,
          13.224,
          13.347999999999999,
          13.472,
          13.596,
          13.72,
          13.844,
          13.968,
          14.091999999999999,
          14.216000000000001,
          14.34,
          14.464,
          14.588000000000001,
          14.712,
          14.836,
          14.96,
          15.084,
          15.208,
          15.332,
          15.456,
          15.58,
          15.704,
          15.828,
          15.952,
          16.076,
          16.2,
          16.323999999999998,
          16.448,
          16.572,
          16.695999999999998,
          16.82,
          16.944,
          17.067999999999998,
          17.192,
          17.316,
          17.44,
          17.564,
          17.688,
          17.812,
          17.936,
          18.060000000000002,
          18.183999999999997,
          18.308,
          18.432000000000002,
          18.555999999999997,
          18.68,
          18.804000000000002,
          18.928,
          19.052,
          19.176000000000002,
          19.3,
          19.424,
          19.548000000000002,
          19.672,
          19.796,
          19.92,
          20.044,
          20.168,
          20.292,
          20.416,
          20.54,
          20.664,
          20.788,
          20.912,
          21.036,
          21.16,
          21.284,
          21.408,
          21.532,
          21.656,
          21.78,
          21.904,
          22.028,
          22.152,
          22.276,
          22.4,
          22.524,
          22.648,
          22.772,
          22.896,
          23.02,
          23.144,
          23.268,
          23.392,
          23.516,
          23.64,
          23.764,
          23.887999999999998,
          24.012,
          24.136,
          24.259999999999998,
          24.384,
          24.508,
          24.631999999999998,
          24.756,
          24.880000000000003,
          25.003999999999998,
          25.128,
          25.252000000000002,
          25.375999999999998,
          25.5,
          25.624000000000002,
          25.747999999999998,
          25.872,
          25.996000000000002,
          26.12,
          26.244,
          26.368,
          26.492,
          26.616,
          26.74,
          26.864,
          26.988,
          27.112,
          27.236,
          27.36,
          27.484,
          27.608,
          27.732,
          27.856,
          27.98,
          28.104,
          28.228,
          28.352,
          28.476,
          28.6,
          28.724,
          28.848,
          28.972,
          29.096,
          29.22,
          29.344,
          29.468,
          29.592,
          29.716,
          29.84,
          29.964,
          30.088,
          30.212,
          30.336,
          30.46,
          30.584,
          30.708,
          30.832,
          30.956,
          31.08,
          31.204,
          31.328,
          31.452,
          31.576,
          31.7,
          31.824,
          31.948,
          32.072,
          32.196,
          32.32,
          32.444,
          32.568,
          32.692,
          32.816,
          32.94,
          33.064,
          33.188,
          33.312,
          33.436,
          33.56,
          33.684,
          33.808,
          33.932,
          34.056,
          34.18,
          34.304,
          34.428,
          34.552,
          34.676,
          34.8,
          34.924,
          35.048,
          35.172,
          35.296,
          35.42,
          35.544,
          35.668,
          35.792,
          35.916,
          36.04,
          36.164,
          36.288,
          36.412,
          36.536,
          36.66,
          36.784,
          36.908,
          37.032,
          37.156,
          37.28,
          37.403999999999996,
          37.528,
          37.652,
          37.775999999999996,
          37.9,
          38.024,
          38.147999999999996,
          38.272,
          38.396,
          38.519999999999996,
          38.644,
          38.768,
          38.891999999999996,
          39.016,
          39.14,
          39.263999999999996,
          39.388000000000005,
          39.512,
          39.635999999999996,
          39.760000000000005,
          39.884,
          40.007999999999996,
          40.132000000000005,
          40.256,
          40.379999999999995,
          40.504000000000005,
          40.628,
          40.751999999999995,
          40.876000000000005,
          41,
          41.123999999999995,
          41.248000000000005,
          41.372,
          41.495999999999995,
          41.620000000000005,
          41.744,
          41.867999999999995,
          41.992000000000004,
          42.116,
          42.24,
          42.364,
          42.488,
          42.612,
          42.736,
          42.86,
          42.984,
          43.108,
          43.232,
          43.356,
          43.48,
          43.604,
          43.728,
          43.852,
          43.976,
          44.1,
          44.224,
          44.348,
          44.472,
          44.596,
          44.72,
          44.844,
          44.968,
          45.092,
          45.216,
          45.34,
          45.464,
          45.588,
          45.712,
          45.836,
          45.96,
          46.084,
          46.208,
          46.332,
          46.456,
          46.58,
          46.704,
          46.828,
          46.952,
          47.076,
          47.2,
          47.324,
          47.448,
          47.572,
          47.696,
          47.82,
          47.944,
          48.068,
          48.192,
          48.316,
          48.44,
          48.564,
          48.688,
          48.812,
          48.936,
          49.06,
          49.184,
          49.308,
          49.432,
          49.556,
          49.68,
          49.804,
          49.928,
          50.052,
          50.176,
          50.3,
          50.424,
          50.548,
          50.672,
          50.796,
          50.92,
          51.044,
          51.168,
          51.292,
          51.416,
          51.54,
          51.664,
          51.788,
          51.912,
          52.036,
          52.16,
          52.284,
          52.408,
          52.532,
          52.656,
          52.78,
          52.904,
          53.028,
          53.152,
          53.276,
          53.4,
          53.524,
          53.648,
          53.772,
          53.896,
          54.02,
          54.144,
          54.268,
          54.392,
          54.516,
          54.64,
          54.764,
          54.888,
          55.012,
          55.136,
          55.26,
          55.384,
          55.508,
          55.632,
          55.756,
          55.88,
          56.004,
          56.128,
          56.252,
          56.376,
          56.5,
          56.624,
          56.748,
          56.872,
          56.996,
          57.12,
          57.244,
          57.368,
          57.492,
          57.616,
          57.74,
          57.864,
          57.988,
          58.112,
          58.236,
          58.36,
          58.484,
          58.608,
          58.732,
          58.856,
          58.98,
          59.104,
          59.228,
          59.352,
          59.476,
          59.6,
          59.724,
          59.848,
          59.972,
          60.096,
          60.22,
          60.344,
          60.468,
          60.592,
          60.716,
          60.84,
          60.964,
          61.088,
          61.212,
          61.336,
          61.46,
          61.584,
          61.708,
          61.832,
          61.956,
          62.08,
          62.204,
          62.328,
          62.452,
          62.576,
          62.7,
          62.824,
          62.948,
          63.072,
          63.196,
          63.32,
          63.444,
          63.568,
          63.692,
          63.816,
          63.94,
          64.064,
          64.188,
          64.312,
          64.436,
          64.56,
          64.684,
          64.80799999999999,
          64.932,
          65.056,
          65.18,
          65.304,
          65.428,
          65.55199999999999,
          65.676,
          65.8,
          65.924,
          66.048,
          66.172,
          66.29599999999999,
          66.42,
          66.544,
          66.668,
          66.792,
          66.916,
          67.03999999999999,
          67.164,
          67.288,
          67.412,
          67.536,
          67.66,
          67.78399999999999,
          67.908,
          68.032,
          68.156,
          68.28,
          68.404,
          68.52799999999999,
          68.652,
          68.77600000000001,
          68.9,
          69.024,
          69.148,
          69.27199999999999,
          69.396,
          69.52000000000001,
          69.644,
          69.768,
          69.892,
          70.01599999999999,
          70.14,
          70.26400000000001,
          70.388,
          70.512,
          70.636,
          70.75999999999999,
          70.884,
          71.00800000000001,
          71.132,
          71.256,
          71.38,
          71.50399999999999,
          71.628,
          71.75200000000001,
          71.876
         ],
         "xaxis": "x",
         "y": {
          "bdata": "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",
          "dtype": "f8"
         },
         "yaxis": "y"
        }
       ],
       "layout": {
        "barmode": "overlay",
        "hovermode": "closest",
        "legend": {
         "traceorder": "reversed"
        },
        "template": {
         "data": {
          "bar": [
           {
            "error_x": {
             "color": "#2a3f5f"
            },
            "error_y": {
             "color": "#2a3f5f"
            },
            "marker": {
             "line": {
              "color": "#E5ECF6",
              "width": 0.5
             },
             "pattern": {
              "fillmode": "overlay",
              "size": 10,
              "solidity": 0.2
             }
            },
            "type": "bar"
           }
          ],
          "barpolar": [
           {
            "marker": {
             "line": {
              "color": "#E5ECF6",
              "width": 0.5
             },
             "pattern": {
              "fillmode": "overlay",
              "size": 10,
              "solidity": 0.2
             }
            },
            "type": "barpolar"
           }
          ],
          "carpet": [
           {
            "aaxis": {
             "endlinecolor": "#2a3f5f",
             "gridcolor": "white",
             "linecolor": "white",
             "minorgridcolor": "white",
             "startlinecolor": "#2a3f5f"
            },
            "baxis": {
             "endlinecolor": "#2a3f5f",
             "gridcolor": "white",
             "linecolor": "white",
             "minorgridcolor": "white",
             "startlinecolor": "#2a3f5f"
            },
            "type": "carpet"
           }
          ],
          "choropleth": [
           {
            "colorbar": {
             "outlinewidth": 0,
             "ticks": ""
            },
            "type": "choropleth"
           }
          ],
          "contour": [
           {
            "colorbar": {
             "outlinewidth": 0,
             "ticks": ""
            },
            "colorscale": [
             [
              0,
              "#0d0887"
             ],
             [
              0.1111111111111111,
              "#46039f"
             ],
             [
              0.2222222222222222,
              "#7201a8"
             ],
             [
              0.3333333333333333,
              "#9c179e"
             ],
             [
              0.4444444444444444,
              "#bd3786"
             ],
             [
              0.5555555555555556,
              "#d8576b"
             ],
             [
              0.6666666666666666,
              "#ed7953"
             ],
             [
              0.7777777777777778,
              "#fb9f3a"
             ],
             [
              0.8888888888888888,
              "#fdca26"
             ],
             [
              1,
              "#f0f921"
             ]
            ],
            "type": "contour"
           }
          ],
          "contourcarpet": [
           {
            "colorbar": {
             "outlinewidth": 0,
             "ticks": ""
            },
            "type": "contourcarpet"
           }
          ],
          "heatmap": [
           {
            "colorbar": {
             "outlinewidth": 0,
             "ticks": ""
            },
            "colorscale": [
             [
              0,
              "#0d0887"
             ],
             [
              0.1111111111111111,
              "#46039f"
             ],
             [
              0.2222222222222222,
              "#7201a8"
             ],
             [
              0.3333333333333333,
              "#9c179e"
             ],
             [
              0.4444444444444444,
              "#bd3786"
             ],
             [
              0.5555555555555556,
              "#d8576b"
             ],
             [
              0.6666666666666666,
              "#ed7953"
             ],
             [
              0.7777777777777778,
              "#fb9f3a"
             ],
             [
              0.8888888888888888,
              "#fdca26"
             ],
             [
              1,
              "#f0f921"
             ]
            ],
            "type": "heatmap"
           }
          ],
          "histogram": [
           {
            "marker": {
             "pattern": {
              "fillmode": "overlay",
              "size": 10,
              "solidity": 0.2
             }
            },
            "type": "histogram"
           }
          ],
          "histogram2d": [
           {
            "colorbar": {
             "outlinewidth": 0,
             "ticks": ""
            },
            "colorscale": [
             [
              0,
              "#0d0887"
             ],
             [
              0.1111111111111111,
              "#46039f"
             ],
             [
              0.2222222222222222,
              "#7201a8"
             ],
             [
              0.3333333333333333,
              "#9c179e"
             ],
             [
              0.4444444444444444,
              "#bd3786"
             ],
             [
              0.5555555555555556,
              "#d8576b"
             ],
             [
              0.6666666666666666,
              "#ed7953"
             ],
             [
              0.7777777777777778,
              "#fb9f3a"
             ],
             [
              0.8888888888888888,
              "#fdca26"
             ],
             [
              1,
              "#f0f921"
             ]
            ],
            "type": "histogram2d"
           }
          ],
          "histogram2dcontour": [
           {
            "colorbar": {
             "outlinewidth": 0,
             "ticks": ""
            },
            "colorscale": [
             [
              0,
              "#0d0887"
             ],
             [
              0.1111111111111111,
              "#46039f"
             ],
             [
              0.2222222222222222,
              "#7201a8"
             ],
             [
              0.3333333333333333,
              "#9c179e"
             ],
             [
              0.4444444444444444,
              "#bd3786"
             ],
             [
              0.5555555555555556,
              "#d8576b"
             ],
             [
              0.6666666666666666,
              "#ed7953"
             ],
             [
              0.7777777777777778,
              "#fb9f3a"
             ],
             [
              0.8888888888888888,
              "#fdca26"
             ],
             [
              1,
              "#f0f921"
             ]
            ],
            "type": "histogram2dcontour"
           }
          ],
          "mesh3d": [
           {
            "colorbar": {
             "outlinewidth": 0,
             "ticks": ""
            },
            "type": "mesh3d"
           }
          ],
          "parcoords": [
           {
            "line": {
             "colorbar": {
              "outlinewidth": 0,
              "ticks": ""
             }
            },
            "type": "parcoords"
           }
          ],
          "pie": [
           {
            "automargin": true,
            "type": "pie"
           }
          ],
          "scatter": [
           {
            "fillpattern": {
             "fillmode": "overlay",
             "size": 10,
             "solidity": 0.2
            },
            "type": "scatter"
           }
          ],
          "scatter3d": [
           {
            "line": {
             "colorbar": {
              "outlinewidth": 0,
              "ticks": ""
             }
            },
            "marker": {
             "colorbar": {
              "outlinewidth": 0,
              "ticks": ""
             }
            },
            "type": "scatter3d"
           }
          ],
          "scattercarpet": [
           {
            "marker": {
             "colorbar": {
              "outlinewidth": 0,
              "ticks": ""
             }
            },
            "type": "scattercarpet"
           }
          ],
          "scattergeo": [
           {
            "marker": {
             "colorbar": {
              "outlinewidth": 0,
              "ticks": ""
             }
            },
            "type": "scattergeo"
           }
          ],
          "scattergl": [
           {
            "marker": {
             "colorbar": {
              "outlinewidth": 0,
              "ticks": ""
             }
            },
            "type": "scattergl"
           }
          ],
          "scattermap": [
           {
            "marker": {
             "colorbar": {
              "outlinewidth": 0,
              "ticks": ""
             }
            },
            "type": "scattermap"
           }
          ],
          "scattermapbox": [
           {
            "marker": {
             "colorbar": {
              "outlinewidth": 0,
              "ticks": ""
             }
            },
            "type": "scattermapbox"
           }
          ],
          "scatterpolar": [
           {
            "marker": {
             "colorbar": {
              "outlinewidth": 0,
              "ticks": ""
             }
            },
            "type": "scatterpolar"
           }
          ],
          "scatterpolargl": [
           {
            "marker": {
             "colorbar": {
              "outlinewidth": 0,
              "ticks": ""
             }
            },
            "type": "scatterpolargl"
           }
          ],
          "scatterternary": [
           {
            "marker": {
             "colorbar": {
              "outlinewidth": 0,
              "ticks": ""
             }
            },
            "type": "scatterternary"
           }
          ],
          "surface": [
           {
            "colorbar": {
             "outlinewidth": 0,
             "ticks": ""
            },
            "colorscale": [
             [
              0,
              "#0d0887"
             ],
             [
              0.1111111111111111,
              "#46039f"
             ],
             [
              0.2222222222222222,
              "#7201a8"
             ],
             [
              0.3333333333333333,
              "#9c179e"
             ],
             [
              0.4444444444444444,
              "#bd3786"
             ],
             [
              0.5555555555555556,
              "#d8576b"
             ],
             [
              0.6666666666666666,
              "#ed7953"
             ],
             [
              0.7777777777777778,
              "#fb9f3a"
             ],
             [
              0.8888888888888888,
              "#fdca26"
             ],
             [
              1,
              "#f0f921"
             ]
            ],
            "type": "surface"
           }
          ],
          "table": [
           {
            "cells": {
             "fill": {
              "color": "#EBF0F8"
             },
             "line": {
              "color": "white"
             }
            },
            "header": {
             "fill": {
              "color": "#C8D4E3"
             },
             "line": {
              "color": "white"
             }
            },
            "type": "table"
           }
          ]
         },
         "layout": {
          "annotationdefaults": {
           "arrowcolor": "#2a3f5f",
           "arrowhead": 0,
           "arrowwidth": 1
          },
          "autotypenumbers": "strict",
          "coloraxis": {
           "colorbar": {
            "outlinewidth": 0,
            "ticks": ""
           }
          },
          "colorscale": {
           "diverging": [
            [
             0,
             "#8e0152"
            ],
            [
             0.1,
             "#c51b7d"
            ],
            [
             0.2,
             "#de77ae"
            ],
            [
             0.3,
             "#f1b6da"
            ],
            [
             0.4,
             "#fde0ef"
            ],
            [
             0.5,
             "#f7f7f7"
            ],
            [
             0.6,
             "#e6f5d0"
            ],
            [
             0.7,
             "#b8e186"
            ],
            [
             0.8,
             "#7fbc41"
            ],
            [
             0.9,
             "#4d9221"
            ],
            [
             1,
             "#276419"
            ]
           ],
           "sequential": [
            [
             0,
             "#0d0887"
            ],
            [
             0.1111111111111111,
             "#46039f"
            ],
            [
             0.2222222222222222,
             "#7201a8"
            ],
            [
             0.3333333333333333,
             "#9c179e"
            ],
            [
             0.4444444444444444,
             "#bd3786"
            ],
            [
             0.5555555555555556,
             "#d8576b"
            ],
            [
             0.6666666666666666,
             "#ed7953"
            ],
            [
             0.7777777777777778,
             "#fb9f3a"
            ],
            [
             0.8888888888888888,
             "#fdca26"
            ],
            [
             1,
             "#f0f921"
            ]
           ],
           "sequentialminus": [
            [
             0,
             "#0d0887"
            ],
            [
             0.1111111111111111,
             "#46039f"
            ],
            [
             0.2222222222222222,
             "#7201a8"
            ],
            [
             0.3333333333333333,
             "#9c179e"
            ],
            [
             0.4444444444444444,
             "#bd3786"
            ],
            [
             0.5555555555555556,
             "#d8576b"
            ],
            [
             0.6666666666666666,
             "#ed7953"
            ],
            [
             0.7777777777777778,
             "#fb9f3a"
            ],
            [
             0.8888888888888888,
             "#fdca26"
            ],
            [
             1,
             "#f0f921"
            ]
           ]
          },
          "colorway": [
           "#636efa",
           "#EF553B",
           "#00cc96",
           "#ab63fa",
           "#FFA15A",
           "#19d3f3",
           "#FF6692",
           "#B6E880",
           "#FF97FF",
           "#FECB52"
          ],
          "font": {
           "color": "#2a3f5f"
          },
          "geo": {
           "bgcolor": "white",
           "lakecolor": "white",
           "landcolor": "#E5ECF6",
           "showlakes": true,
           "showland": true,
           "subunitcolor": "white"
          },
          "hoverlabel": {
           "align": "left"
          },
          "hovermode": "closest",
          "mapbox": {
           "style": "light"
          },
          "paper_bgcolor": "white",
          "plot_bgcolor": "#E5ECF6",
          "polar": {
           "angularaxis": {
            "gridcolor": "white",
            "linecolor": "white",
            "ticks": ""
           },
           "bgcolor": "#E5ECF6",
           "radialaxis": {
            "gridcolor": "white",
            "linecolor": "white",
            "ticks": ""
           }
          },
          "scene": {
           "xaxis": {
            "backgroundcolor": "#E5ECF6",
            "gridcolor": "white",
            "gridwidth": 2,
            "linecolor": "white",
            "showbackground": true,
            "ticks": "",
            "zerolinecolor": "white"
           },
           "yaxis": {
            "backgroundcolor": "#E5ECF6",
            "gridcolor": "white",
            "gridwidth": 2,
            "linecolor": "white",
            "showbackground": true,
            "ticks": "",
            "zerolinecolor": "white"
           },
           "zaxis": {
            "backgroundcolor": "#E5ECF6",
            "gridcolor": "white",
            "gridwidth": 2,
            "linecolor": "white",
            "showbackground": true,
            "ticks": "",
            "zerolinecolor": "white"
           }
          },
          "shapedefaults": {
           "line": {
            "color": "#2a3f5f"
           }
          },
          "ternary": {
           "aaxis": {
            "gridcolor": "white",
            "linecolor": "white",
            "ticks": ""
           },
           "baxis": {
            "gridcolor": "white",
            "linecolor": "white",
            "ticks": ""
           },
           "bgcolor": "#E5ECF6",
           "caxis": {
            "gridcolor": "white",
            "linecolor": "white",
            "ticks": ""
           }
          },
          "title": {
           "x": 0.05
          },
          "xaxis": {
           "automargin": true,
           "gridcolor": "white",
           "linecolor": "white",
           "ticks": "",
           "title": {
            "standoff": 15
           },
           "zerolinecolor": "white",
           "zerolinewidth": 2
          },
          "yaxis": {
           "automargin": true,
           "gridcolor": "white",
           "linecolor": "white",
           "ticks": "",
           "title": {
            "standoff": 15
           },
           "zerolinecolor": "white",
           "zerolinewidth": 2
          }
         }
        },
        "xaxis": {
         "anchor": "y2",
         "domain": [
          0,
          1
         ],
         "zeroline": false
        },
        "yaxis": {
         "anchor": "free",
         "domain": [
          0,
          1
         ],
         "position": 0
        }
       }
      }
     },
     "metadata": {},
     "output_type": "display_data"
    }
   ],
   "source": [
    "fig = ff.create_distplot([x1, x2, x3, x4],['Overall Age', 'Gold Medalist','Silver Medalist', 'Bronze Medalist'],show_hist=False,show_rug=False)\n",
    "fig.show()"
   ]
  },
  {
   "cell_type": "code",
   "execution_count": null,
   "id": "b43ee0f3",
   "metadata": {},
   "outputs": [],
   "source": []
  }
 ],
 "metadata": {
  "kernelspec": {
   "display_name": "venv",
   "language": "python",
   "name": "python3"
  },
  "language_info": {
   "codemirror_mode": {
    "name": "ipython",
    "version": 3
   },
   "file_extension": ".py",
   "mimetype": "text/x-python",
   "name": "python",
   "nbconvert_exporter": "python",
   "pygments_lexer": "ipython3",
   "version": "3.12.3"
  }
 },
 "nbformat": 4,
 "nbformat_minor": 5
}
